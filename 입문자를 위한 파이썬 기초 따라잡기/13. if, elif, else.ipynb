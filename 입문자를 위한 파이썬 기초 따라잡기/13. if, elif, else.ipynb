{
 "cells": [
  {
   "cell_type": "markdown",
   "metadata": {},
   "source": [
    "* if문은 가장 잘 알려진 프로그래밍 구문\n",
    "* if를 사용하여 조건이 일치하면 다음 내용을 실행\n",
    "* 조건이 일치하지 않으면 아무 실행 없음"
   ]
  },
  {
   "cell_type": "code",
   "execution_count": 2,
   "metadata": {},
   "outputs": [
    {
     "name": "stdout",
     "output_type": "stream",
     "text": [
      "0보다 크다\n"
     ]
    }
   ],
   "source": [
    "num = 1\n",
    "if num >0:\n",
    "    print('0보다 크다')"
   ]
  },
  {
   "cell_type": "markdown",
   "metadata": {},
   "source": [
    "* else를 뒤에 붙일 결우 \n",
    "* if조건 외에 해당하면 else를 붙여 흐름을 제어"
   ]
  },
  {
   "cell_type": "code",
   "execution_count": 3,
   "metadata": {},
   "outputs": [
    {
     "name": "stdout",
     "output_type": "stream",
     "text": [
      "조건이 맞지 않다.\n"
     ]
    }
   ],
   "source": [
    "num = -1\n",
    "if num >0:\n",
    "    print('0보다 크다')\n",
    "else:\n",
    "    print('조건이 맞지 않다.')"
   ]
  },
  {
   "cell_type": "markdown",
   "metadata": {},
   "source": [
    "* elif를 사용하여 조건을 추가적으로 검사\n",
    "* 앞에 있는 if나 elif문에서 조건이 만족하지 않는 경우에만 검사\n",
    "* if나 elif에서 조건이 일치하는 경우가 있으면 하위에 있는 elif와 else는 모두 무시\n",
    "* else와 elif는 선택적으로 사용 가능"
   ]
  },
  {
   "cell_type": "code",
   "execution_count": 4,
   "metadata": {},
   "outputs": [
    {
     "name": "stdout",
     "output_type": "stream",
     "text": [
      "0보다 작다\n"
     ]
    }
   ],
   "source": [
    "num = -1\n",
    "if num >0:\n",
    "    print('0보다 크다')\n",
    "elif num == 0:\n",
    "    print('0과 같다.')\n",
    "elif num <0:\n",
    "    print('0보다 작다')\n",
    "else:\n",
    "    print('조건이 맞지 않다.')"
   ]
  },
  {
   "cell_type": "markdown",
   "metadata": {},
   "source": [
    "* 로봇 청소기의 행위를 if문으로 작성하기"
   ]
  },
  {
   "cell_type": "code",
   "execution_count": null,
   "metadata": {},
   "outputs": [],
   "source": []
  }
 ],
 "metadata": {
  "kernelspec": {
   "display_name": "Python 3",
   "language": "python",
   "name": "python3"
  },
  "language_info": {
   "codemirror_mode": {
    "name": "ipython",
    "version": 3
   },
   "file_extension": ".py",
   "mimetype": "text/x-python",
   "name": "python",
   "nbconvert_exporter": "python",
   "pygments_lexer": "ipython3",
   "version": "3.6.10"
  }
 },
 "nbformat": 4,
 "nbformat_minor": 4
}

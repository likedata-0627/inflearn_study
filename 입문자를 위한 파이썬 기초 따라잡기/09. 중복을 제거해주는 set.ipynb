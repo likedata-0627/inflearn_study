{
 "cells": [
  {
   "cell_type": "markdown",
   "metadata": {},
   "source": [
    "# set"
   ]
  },
  {
   "cell_type": "markdown",
   "metadata": {},
   "source": [
    "* 중복된 요소가 없는 정렬되지 않는 집합\n",
    "* 기본적으로 멤버를 검사하고 중복 항목을 제거\n",
    "* Union, intersection, difference, symmetric difference 와 같은 수학적 연산 지원\n",
    "* 중괄호나 set() 함수를 사용하여 set 생성\n",
    "* 일단 set를 활용하여 마겟에 가서 여러 고기 종류를 골라보자"
   ]
  },
  {
   "cell_type": "code",
   "execution_count": 1,
   "metadata": {},
   "outputs": [
    {
     "data": {
      "text/plain": [
       "{'beef', 'lamb', 'pork'}"
      ]
     },
     "execution_count": 1,
     "metadata": {},
     "output_type": "execute_result"
    }
   ],
   "source": [
    "market = {'beef','pork','lamb','beef','pork','lamb','beef','pork','lamb'}\n",
    "market"
   ]
  },
  {
   "cell_type": "markdown",
   "metadata": {},
   "source": [
    "* 집합연산"
   ]
  },
  {
   "cell_type": "code",
   "execution_count": 2,
   "metadata": {},
   "outputs": [],
   "source": [
    "a = set('1234567')\n",
    "b = set('4567890')"
   ]
  },
  {
   "cell_type": "code",
   "execution_count": 4,
   "metadata": {},
   "outputs": [
    {
     "name": "stdout",
     "output_type": "stream",
     "text": [
      "{'1', '2', '3'}\n",
      "{'1', '0', '7', '2', '9', '8', '5', '6', '4', '3'}\n",
      "{'7', '4', '5', '6'}\n",
      "{'1', '0', '2', '9', '8', '3'}\n"
     ]
    }
   ],
   "source": [
    "print(a-b) #a와b의 차집합\n",
    "print(a|b) # a와 b의 합집합\n",
    "print(a&b) # a와 b의 교집합\n",
    "print(a^b) # a와 b의 합집합에서 교집합을 제외한 집합"
   ]
  },
  {
   "cell_type": "markdown",
   "metadata": {},
   "source": [
    "# 세트 연습 문제"
   ]
  },
  {
   "cell_type": "code",
   "execution_count": 10,
   "metadata": {},
   "outputs": [],
   "source": [
    "A = set('aabbachdhefgg')\n",
    "B = set('hdhefokllkmmi')\n",
    "C = set('efiggjjnnpp')"
   ]
  },
  {
   "cell_type": "code",
   "execution_count": 11,
   "metadata": {},
   "outputs": [
    {
     "name": "stdout",
     "output_type": "stream",
     "text": [
      "A|B {'e', 'l', 'h', 'k', 'f', 'c', 'b', 'o', 'm', 'd', 'i', 'g', 'a'}\n",
      "A-B {'c', 'b', 'g', 'a'}\n",
      "A&B&C {'e', 'f'}\n"
     ]
    }
   ],
   "source": [
    "print('A|B',A|B) # 합집합\n",
    "print('A-B',A-B) #차집합\n",
    "print('A&B&C',A&B&C) # 교집합"
   ]
  },
  {
   "cell_type": "markdown",
   "metadata": {},
   "source": [
    "'''\n",
    "과일에 대한 데이터를 다음과 같이 입력 했을 때 중복된 값이 제외된 상태로 출력되도록\n",
    "* 입력: melon banana strawberry melon banana blueberry banana strawberry\n",
    "* 출력 {'straeberry','blueberry','melon','banana'}\n",
    "'''"
   ]
  },
  {
   "cell_type": "code",
   "execution_count": 13,
   "metadata": {},
   "outputs": [
    {
     "name": "stdout",
     "output_type": "stream",
     "text": [
      "입력:  melon banana strawberry melon banana blueberry banana strawberry\n",
      "중복 제거한 후의 목록:, {'melon', 'banana', 'strawberry', 'blueberry'}\n"
     ]
    }
   ],
   "source": [
    "str = input('입력: ')\n",
    "print('중복 제거한 후의 목록:,',set(str.split()))"
   ]
  },
  {
   "cell_type": "code",
   "execution_count": null,
   "metadata": {},
   "outputs": [],
   "source": []
  }
 ],
 "metadata": {
  "kernelspec": {
   "display_name": "Python 3",
   "language": "python",
   "name": "python3"
  },
  "language_info": {
   "codemirror_mode": {
    "name": "ipython",
    "version": 3
   },
   "file_extension": ".py",
   "mimetype": "text/x-python",
   "name": "python",
   "nbconvert_exporter": "python",
   "pygments_lexer": "ipython3",
   "version": "3.6.10"
  }
 },
 "nbformat": 4,
 "nbformat_minor": 4
}

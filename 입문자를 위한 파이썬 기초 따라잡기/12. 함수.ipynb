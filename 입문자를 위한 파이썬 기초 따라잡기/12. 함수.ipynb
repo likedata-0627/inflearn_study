{
 "cells": [
  {
   "cell_type": "markdown",
   "metadata": {},
   "source": [
    "# 함수"
   ]
  },
  {
   "cell_type": "markdown",
   "metadata": {},
   "source": [
    "* 함수란, 첫번째 집합의 임의의 한 원소를 두번째 집합의 오직 한 원소에 대응시키는 대응 관계이다."
   ]
  },
  {
   "cell_type": "markdown",
   "metadata": {},
   "source": [
    "* 함수의 리턴이란\"\n",
    ">* 어떤 x값에 대한 함수의 결과 f(x)에 대한 결과(리턴)\n",
    ">* 함수 f(x) =4x +4라고가정\n",
    ">* 함수 f(x)에 4를 대입하면 그 결과는 20이 됨\n",
    ">* 즉 f(x)의 결과는 20"
   ]
  },
  {
   "cell_type": "markdown",
   "metadata": {},
   "source": [
    "* 덧셈 함수 "
   ]
  },
  {
   "cell_type": "code",
   "execution_count": 1,
   "metadata": {},
   "outputs": [],
   "source": [
    "def add(a,b):\n",
    "    return a+b"
   ]
  },
  {
   "cell_type": "code",
   "execution_count": 2,
   "metadata": {},
   "outputs": [
    {
     "name": "stdout",
     "output_type": "stream",
     "text": [
      "3\n"
     ]
    }
   ],
   "source": [
    "result = add(1,2)\n",
    "print(result)"
   ]
  },
  {
   "cell_type": "markdown",
   "metadata": {},
   "source": [
    "# 연습문제"
   ]
  },
  {
   "cell_type": "markdown",
   "metadata": {},
   "source": [
    "* 사용자의 입력을 받아 다음과 같은 출력 형태를 갖는 add_num2()를 작성하십시오. 형 변환을 위해 int를 사용하세요\n",
    "* add_num2()\n",
    "* 띄어쓰기로 나눠서 숫자를 4개만 입력하세요. (사용자입력)\n"
   ]
  },
  {
   "cell_type": "code",
   "execution_count": 4,
   "metadata": {},
   "outputs": [],
   "source": [
    "def add_num2():\n",
    "    list1 = input('띄어쓰기로 나눠서 숫자를 4개만 입력하세요.')\n",
    "    a,b,c,d = list1.split()\n",
    "    a,b,c,d = int(a), int(b), int(c), int(d) \n",
    "    return a+b+c+d"
   ]
  },
  {
   "cell_type": "code",
   "execution_count": 6,
   "metadata": {},
   "outputs": [
    {
     "name": "stdout",
     "output_type": "stream",
     "text": [
      "띄어쓰기로 나눠서 숫자를 4개만 입력하세요.1 5 6 8\n"
     ]
    },
    {
     "data": {
      "text/plain": [
       "20"
      ]
     },
     "execution_count": 6,
     "metadata": {},
     "output_type": "execute_result"
    }
   ],
   "source": [
    "add_num2()"
   ]
  },
  {
   "cell_type": "markdown",
   "metadata": {},
   "source": [
    "* ip주소로 실제 위치 찾기 프로그램을 함수로 만들기"
   ]
  },
  {
   "cell_type": "code",
   "execution_count": 7,
   "metadata": {},
   "outputs": [],
   "source": [
    "import requests\n",
    "import json"
   ]
  },
  {
   "cell_type": "code",
   "execution_count": 14,
   "metadata": {},
   "outputs": [],
   "source": [
    "def getLocation(ip):\n",
    "    url = 'http://ip-api.com/json/' + ip\n",
    "    response=requests.get(url)\n",
    "    return response.json()    "
   ]
  },
  {
   "cell_type": "code",
   "execution_count": 16,
   "metadata": {},
   "outputs": [
    {
     "data": {
      "text/plain": [
       "{'status': 'success',\n",
       " 'country': 'South Korea',\n",
       " 'countryCode': 'KR',\n",
       " 'region': '41',\n",
       " 'regionName': 'Gyeonggi-do',\n",
       " 'city': 'Seongnam-si',\n",
       " 'zip': '13606',\n",
       " 'lat': 37.3827,\n",
       " 'lon': 127.119,\n",
       " 'timezone': 'Asia/Seoul',\n",
       " 'isp': 'NBP',\n",
       " 'org': '',\n",
       " 'as': 'AS23576 NBP',\n",
       " 'query': '210.89.160.88'}"
      ]
     },
     "execution_count": 16,
     "metadata": {},
     "output_type": "execute_result"
    }
   ],
   "source": [
    "getLocation('naver.com')"
   ]
  },
  {
   "cell_type": "code",
   "execution_count": 17,
   "metadata": {},
   "outputs": [
    {
     "name": "stdout",
     "output_type": "stream",
     "text": [
      "KR\n",
      "35.702\n"
     ]
    }
   ],
   "source": [
    "data = getLocation('naver.com')\n",
    "print(data['countryCode'])\n",
    "print(data['lat'])"
   ]
  },
  {
   "cell_type": "code",
   "execution_count": null,
   "metadata": {},
   "outputs": [],
   "source": []
  }
 ],
 "metadata": {
  "kernelspec": {
   "display_name": "Python 3",
   "language": "python",
   "name": "python3"
  },
  "language_info": {
   "codemirror_mode": {
    "name": "ipython",
    "version": 3
   },
   "file_extension": ".py",
   "mimetype": "text/x-python",
   "name": "python",
   "nbconvert_exporter": "python",
   "pygments_lexer": "ipython3",
   "version": "3.6.10"
  }
 },
 "nbformat": 4,
 "nbformat_minor": 4
}

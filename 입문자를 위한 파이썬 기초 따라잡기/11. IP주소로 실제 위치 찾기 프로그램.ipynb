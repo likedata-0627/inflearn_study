{
 "cells": [
  {
   "cell_type": "markdown",
   "metadata": {},
   "source": [
    "#  Json : IP주소나 도메인 이름을 위치 정보로 바꿔주는 서비스"
   ]
  },
  {
   "cell_type": "markdown",
   "metadata": {},
   "source": [
    "* Url을 통해 ip나 도메인 이름을 전달\n",
    "* ip-api.com/json/naver.com"
   ]
  },
  {
   "cell_type": "code",
   "execution_count": 1,
   "metadata": {},
   "outputs": [],
   "source": [
    "import requests"
   ]
  },
  {
   "cell_type": "code",
   "execution_count": 2,
   "metadata": {},
   "outputs": [],
   "source": [
    "import json"
   ]
  },
  {
   "cell_type": "code",
   "execution_count": 3,
   "metadata": {},
   "outputs": [],
   "source": [
    "response = requests.get('http://ip-api.com/json/naver.com')"
   ]
  },
  {
   "cell_type": "code",
   "execution_count": 4,
   "metadata": {},
   "outputs": [
    {
     "data": {
      "text/plain": [
       "<Response [200]>"
      ]
     },
     "execution_count": 4,
     "metadata": {},
     "output_type": "execute_result"
    }
   ],
   "source": [
    "response"
   ]
  },
  {
   "cell_type": "code",
   "execution_count": 5,
   "metadata": {},
   "outputs": [
    {
     "data": {
      "text/plain": [
       "'{\"status\":\"success\",\"country\":\"South Korea\",\"countryCode\":\"KR\",\"region\":\"41\",\"regionName\":\"Gyeonggi-do\",\"city\":\"Seongnam-si\",\"zip\":\"13606\",\"lat\":37.3827,\"lon\":127.119,\"timezone\":\"Asia/Seoul\",\"isp\":\"NBP\",\"org\":\"\",\"as\":\"AS23576 NBP\",\"query\":\"210.89.164.90\"}'"
      ]
     },
     "execution_count": 5,
     "metadata": {},
     "output_type": "execute_result"
    }
   ],
   "source": [
    "response.text"
   ]
  },
  {
   "cell_type": "code",
   "execution_count": 6,
   "metadata": {},
   "outputs": [
    {
     "name": "stdout",
     "output_type": "stream",
     "text": [
      "<class 'str'>\n"
     ]
    }
   ],
   "source": [
    "print(type(response.text))"
   ]
  },
  {
   "cell_type": "markdown",
   "metadata": {},
   "source": [
    "* load는 파일에서 불러오기, loads는 string을 가지고 불러오기"
   ]
  },
  {
   "cell_type": "code",
   "execution_count": 7,
   "metadata": {},
   "outputs": [
    {
     "data": {
      "text/plain": [
       "{'status': 'success',\n",
       " 'country': 'South Korea',\n",
       " 'countryCode': 'KR',\n",
       " 'region': '41',\n",
       " 'regionName': 'Gyeonggi-do',\n",
       " 'city': 'Seongnam-si',\n",
       " 'zip': '13606',\n",
       " 'lat': 37.3827,\n",
       " 'lon': 127.119,\n",
       " 'timezone': 'Asia/Seoul',\n",
       " 'isp': 'NBP',\n",
       " 'org': '',\n",
       " 'as': 'AS23576 NBP',\n",
       " 'query': '210.89.164.90'}"
      ]
     },
     "execution_count": 7,
     "metadata": {},
     "output_type": "execute_result"
    }
   ],
   "source": [
    "json.loads(response.text)"
   ]
  },
  {
   "cell_type": "code",
   "execution_count": 8,
   "metadata": {},
   "outputs": [
    {
     "data": {
      "text/plain": [
       "dict"
      ]
     },
     "execution_count": 8,
     "metadata": {},
     "output_type": "execute_result"
    }
   ],
   "source": [
    "type(json.loads(response.text))"
   ]
  },
  {
   "cell_type": "markdown",
   "metadata": {},
   "source": [
    "*****************************************"
   ]
  },
  {
   "cell_type": "code",
   "execution_count": 11,
   "metadata": {},
   "outputs": [
    {
     "name": "stdout",
     "output_type": "stream",
     "text": [
      "domain_name:daum.net\n",
      "as :  AS9764 Kakao Corp\n",
      "city :  Yongin-si\n",
      "country :  South Korea\n",
      "countryCode :  KR\n",
      "isp :  Kakao Corp\n",
      "lat :  37.3222\n",
      "lon :  127.097\n",
      "org :  Daou Technology\n",
      "query :  203.133.167.81\n",
      "region :  41\n",
      "regionName :  Gyeonggi-do\n",
      "status :  success\n",
      "timezone :  Asia/Seoul\n",
      "zip :  16940\n"
     ]
    }
   ],
   "source": [
    "domain_name = input('domain_name: ')\n",
    "url = 'http://ip-api.com/json/' + domain_name\n",
    "\n",
    "response=requests.get(url)\n",
    "dict1 = json.loads(response.text)\n",
    "for i in sorted(dict1.keys()):\n",
    "    print(i,':',dict1[i])"
   ]
  },
  {
   "cell_type": "code",
   "execution_count": null,
   "metadata": {},
   "outputs": [],
   "source": []
  }
 ],
 "metadata": {
  "kernelspec": {
   "display_name": "Python 3",
   "language": "python",
   "name": "python3"
  },
  "language_info": {
   "codemirror_mode": {
    "name": "ipython",
    "version": 3
   },
   "file_extension": ".py",
   "mimetype": "text/x-python",
   "name": "python",
   "nbconvert_exporter": "python",
   "pygments_lexer": "ipython3",
   "version": "3.6.10"
  }
 },
 "nbformat": 4,
 "nbformat_minor": 4
}

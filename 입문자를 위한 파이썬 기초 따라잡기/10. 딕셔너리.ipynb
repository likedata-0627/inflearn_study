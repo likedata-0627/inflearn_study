{
 "cells": [
  {
   "cell_type": "markdown",
   "metadata": {},
   "source": [
    "* 딕셔너리\n",
    ">* dict는 딕셔너리의 약자로 값과 속성으로 이루어짐\n",
    ">* 값은 문자열, 정수, 배열, dict 등 삽입 가능\n",
    ">* key를 사용하여 value를 인덱스\n",
    ">* 키는 strings 나 number가 될 수 있으나 변하지 않아야 함.\n",
    ">* 키는 고유한 성질을 가져야 함\n",
    ">* 정렬되지 않은 key:value 썅\n",
    ">* '{'와'}를 활용하여 딕셔너리를 만들고, 그안에 ':'를 사용하여 key와 value를 구분\n",
    ">* key를 사용하여 vaue를 저장\n",
    ">* keys()를 사용하면 딕셔너리 키만 확인\n",
    ">* values()를 사용하면 딕셔너리 값만 확인\n",
    ">* items()를 사용하면 딕셔너리 전체를 확인\n",
    ">* 전체 내용을 확인하려면 data의 keys를 통래 내용확인 가능(for문으로)"
   ]
  },
  {
   "cell_type": "code",
   "execution_count": 3,
   "metadata": {},
   "outputs": [
    {
     "name": "stdout",
     "output_type": "stream",
     "text": [
      "a\n",
      "b\n",
      "dict_keys([1, 2])\n",
      "dict_values(['a', 'b'])\n"
     ]
    }
   ],
   "source": [
    "data ={1:'a',2:'b'}\n",
    "print(data[1])\n",
    "print(data[2])\n",
    "print(data.keys())\n",
    "print(data.values())\n"
   ]
  },
  {
   "cell_type": "code",
   "execution_count": 4,
   "metadata": {},
   "outputs": [],
   "source": [
    "data2={'김영수':{'영어':80,'수학':90},\n",
    "      '최희수':{'영어':70,'국어':100}}"
   ]
  },
  {
   "cell_type": "code",
   "execution_count": 9,
   "metadata": {},
   "outputs": [
    {
     "name": "stdout",
     "output_type": "stream",
     "text": [
      "{'영어': 80, '수학': 90}\n",
      "80\n",
      "90\n",
      "100\n",
      "{'김영수': {'영어': 80, '수학': 100}, '최희수': {'영어': 70, '국어': 100}}\n",
      "{'김영수': {'영어': 80, '수학': 100, '국어': 50}, '최희수': {'영어': 70, '국어': 100}}\n"
     ]
    }
   ],
   "source": [
    "print(data2['김영수'])\n",
    "print(data2['김영수']['영어'])\n",
    "print(data2['김영수']['수학'])\n",
    "print(data2['최희수']['국어'])\n",
    "data2['김영수']['수학']=100\n",
    "print(data2)\n",
    "data2['김영수']['국어']=50\n",
    "print(data2)"
   ]
  },
  {
   "cell_type": "code",
   "execution_count": 13,
   "metadata": {},
   "outputs": [
    {
     "name": "stdout",
     "output_type": "stream",
     "text": [
      "1 : a\n",
      "2 : b\n"
     ]
    }
   ],
   "source": [
    "for i in data.keys():\n",
    "    print(i,':',data[i])"
   ]
  },
  {
   "cell_type": "code",
   "execution_count": 15,
   "metadata": {},
   "outputs": [
    {
     "name": "stdout",
     "output_type": "stream",
     "text": [
      "김영수 : {'영어': 80, '수학': 100, '국어': 50}\n",
      "최희수 : {'영어': 70, '국어': 100}\n"
     ]
    }
   ],
   "source": [
    "for i in data2.keys():\n",
    "    print(i,':',data2[i])"
   ]
  },
  {
   "cell_type": "markdown",
   "metadata": {},
   "source": [
    "# 연습문제"
   ]
  },
  {
   "cell_type": "markdown",
   "metadata": {},
   "source": [
    "* dict b에서 name데이터를 찾으라.\n",
    "* dict b에서 birth데이터를 찾으라\n",
    "* dict b에 key가 city이고 value가 seoul인 데이터를 추가하라. \n",
    "'''\\\n",
    "키        값            데이터타입\\\n",
    "name     Jonh           문자열\\\n",
    "phone    01012345432    문자열\\\n",
    "email    test@test.com  문자열\\\n",
    "birth    111111         정수\\\n",
    "'''"
   ]
  },
  {
   "cell_type": "code",
   "execution_count": 17,
   "metadata": {},
   "outputs": [],
   "source": [
    "b ={'name':'John', 'phone':'01012345432', 'email':'test@test.com','birth':111111}"
   ]
  },
  {
   "cell_type": "code",
   "execution_count": 26,
   "metadata": {},
   "outputs": [
    {
     "data": {
      "text/plain": [
       "'John'"
      ]
     },
     "execution_count": 26,
     "metadata": {},
     "output_type": "execute_result"
    }
   ],
   "source": [
    "b['name']"
   ]
  },
  {
   "cell_type": "code",
   "execution_count": 28,
   "metadata": {},
   "outputs": [
    {
     "name": "stdout",
     "output_type": "stream",
     "text": [
      "{'name': 'John', 'phone': '01012345432', 'email': 'test@test.com', 'birth': 101010}\n"
     ]
    }
   ],
   "source": [
    "b['birth']=101010\n",
    "print(b)"
   ]
  },
  {
   "cell_type": "code",
   "execution_count": 33,
   "metadata": {},
   "outputs": [
    {
     "name": "stdout",
     "output_type": "stream",
     "text": [
      "{'name': 'John', 'phone': '01012345432', 'email': 'test@test.com', 'birth': 101010, 'city': 'seoul'}\n"
     ]
    }
   ],
   "source": [
    "b['city']='seoul'\n",
    "print(b)"
   ]
  },
  {
   "cell_type": "code",
   "execution_count": 34,
   "metadata": {},
   "outputs": [
    {
     "name": "stdout",
     "output_type": "stream",
     "text": [
      "{'name': 'John', 'phone': '01012345432', 'birth': 101010, 'city': 'seoul'}\n"
     ]
    }
   ],
   "source": [
    "del b['email']\n",
    "print(b)"
   ]
  },
  {
   "cell_type": "code",
   "execution_count": null,
   "metadata": {},
   "outputs": [],
   "source": []
  }
 ],
 "metadata": {
  "kernelspec": {
   "display_name": "Python 3",
   "language": "python",
   "name": "python3"
  },
  "language_info": {
   "codemirror_mode": {
    "name": "ipython",
    "version": 3
   },
   "file_extension": ".py",
   "mimetype": "text/x-python",
   "name": "python",
   "nbconvert_exporter": "python",
   "pygments_lexer": "ipython3",
   "version": "3.6.10"
  }
 },
 "nbformat": 4,
 "nbformat_minor": 4
}

{
 "cells": [
  {
   "cell_type": "code",
   "execution_count": 9,
   "metadata": {},
   "outputs": [],
   "source": [
    "from bs4 import BeautifulSoup\n",
    "import urllib.request #plus_url 한글적용 가능하게함\n",
    "import urllib.parse"
   ]
  },
  {
   "cell_type": "code",
   "execution_count": 11,
   "metadata": {},
   "outputs": [
    {
     "name": "stdout",
     "output_type": "stream",
     "text": [
      "검색어를 입력하세요: 파이썬\n",
      "파이썬 학원 처음 시작은 꼼꼼하게!\n",
      "https://blog.naver.com/catharsis486?Redirect=Log&logNo=221818343149\n",
      "강남파이썬학원 무조건 취업한다\n",
      "https://blog.naver.com/ykm0711?Redirect=Log&logNo=221806143987\n",
      "파이썬 : Pygame으로 Ping Pong 게임 만들기 따라하기\n",
      "https://cosmosjs.blog.me/221719238699\n",
      "노트패드와 파이썬을 연동하여 작업능률 향상시키기!\n",
      "https://blog.naver.com/gmlehde?Redirect=Log&logNo=221835425985\n",
      "pyCharm - 파이썬 IDE\n",
      "https://blog.naver.com/tommybee?Redirect=Log&logNo=221762128570\n",
      "파이썬학원 어렵게 돌아가지 마요\n",
      "https://blog.naver.com/7441472?Redirect=Log&logNo=221813839069\n",
      "파이썬 IDE 파이참(pycharm) 설치 방법 알아보기\n",
      "https://itgroovy.tistory.com/702\n",
      "파이썬 독학 , 인강으로 혼자 도전해보자!\n",
      "https://blog.naver.com/cdh0584?Redirect=Log&logNo=221834224234\n",
      "[Python] 파이썬으로 와슨 AI 이용해보기\n",
      "http://mcchae.egloos.com/11336272\n",
      "[Python] 파이썬 웹 개발. #개발 프레임워크, Django와 Flask 비교\n",
      "https://dsz08082.blog.me/221797865031\n"
     ]
    }
   ],
   "source": [
    "base_url =  'https://search.naver.com/search.naver?where=post&sm=tab_jum&query='\n",
    "plus_url = input('검색어를 입력하세요: ')\n",
    "url = base_url + urllib.parse.quote_plus(plus_url)  #plus_url 한글적용 가능하게함\n",
    "\n",
    "html = urllib.request.urlopen(url).read() \n",
    "soup =  BeautifulSoup(html, 'html.parser')\n",
    "\n",
    "title = soup.find_all(class_='sh_blog_title')\n",
    "\n",
    "for i in title:\n",
    "    print(i.attrs['title'])\n",
    "    print(i.attrs['href'])"
   ]
  },
  {
   "cell_type": "code",
   "execution_count": null,
   "metadata": {},
   "outputs": [],
   "source": []
  }
 ],
 "metadata": {
  "kernelspec": {
   "display_name": "Python 3",
   "language": "python",
   "name": "python3"
  },
  "language_info": {
   "codemirror_mode": {
    "name": "ipython",
    "version": 3
   },
   "file_extension": ".py",
   "mimetype": "text/x-python",
   "name": "python",
   "nbconvert_exporter": "python",
   "pygments_lexer": "ipython3",
   "version": "3.6.10"
  }
 },
 "nbformat": 4,
 "nbformat_minor": 4
}

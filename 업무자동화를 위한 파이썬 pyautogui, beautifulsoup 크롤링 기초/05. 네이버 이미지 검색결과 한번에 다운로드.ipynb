{
 "cells": [
  {
   "cell_type": "code",
   "execution_count": 1,
   "metadata": {},
   "outputs": [],
   "source": [
    "from urllib.request import urlopen\n",
    "from urllib.parse import quote_plus\n",
    "from bs4 import BeautifulSoup"
   ]
  },
  {
   "cell_type": "code",
   "execution_count": 8,
   "metadata": {
    "scrolled": true
   },
   "outputs": [
    {
     "name": "stdout",
     "output_type": "stream",
     "text": [
      "검색어를 입력하세요: 딸기\n"
     ]
    }
   ],
   "source": [
    "base_url = 'https://search.naver.com/search.naver?where=image&sm=tab_jum&query='\n",
    "plus_url = input('검색어를 입력하세요: ')\n",
    "url  = base_url + quote_plus(plus_url) #quote_plus 한글을 자동으로 아스키코드로 변환해줌\n",
    "\n",
    "html = urlopen(url).read()\n",
    "soup = BeautifulSoup(html, 'html.parser')"
   ]
  },
  {
   "cell_type": "code",
   "execution_count": 17,
   "metadata": {},
   "outputs": [
    {
     "name": "stdout",
     "output_type": "stream",
     "text": [
      "https://search.pstatic.net/common/?src=http%3A%2F%2Fshop1.phinf.naver.net%2F20191126_99%2F1574732863566Mgn3X_JPEG%2F12093602199381444_426962156.jpg&type=b400\n",
      "https://search.pstatic.net/common/?src=http%3A%2F%2Fblogfiles.naver.net%2F20120608_177%2Fxorbdhd_1339140184730wJp60_JPEG%2F%25B5%25FE%25B1%25E21.jpg&type=b400\n",
      "https://search.pstatic.net/common/?src=http%3A%2F%2Fblogfiles.naver.net%2F20120315_33%2Fdiet44go_1331740344400YxM9w_JPEG%2F%25B5%25FE%25B1%25E2.jpg&type=b400\n",
      "https://search.pstatic.net/common/?src=http%3A%2F%2Fblogfiles.naver.net%2Fdata5%2F2004%2F11%2F27%2F74%2F%25B5%25FE%25B1%25E2-kimslki12.jpg&type=b400\n",
      "https://search.pstatic.net/common/?src=http%3A%2F%2Fblogfiles.naver.net%2F20160224_64%2Fyuu1035_14562866520323wYeU_JPEG%2F%25B5%25FE%25B1%25E2%25C4%25AE%25B7%25CE%25B8%25AE_1.jpg&type=b400\n",
      "https://search.pstatic.net/common/?src=http%3A%2F%2Fimgnews.naver.net%2Fimage%2F5270%2F2014%2F01%2F16%2F2014011619062677172_20140116190843_1_59_20140116191002.jpg&type=b400\n",
      "https://search.pstatic.net/common/?src=http%3A%2F%2Fimgnews.naver.net%2Fimage%2F5503%2F2017%2F11%2F23%2F0000002526_001_20171123111956837.jpg&type=b400\n",
      "https://search.pstatic.net/common/?src=http%3A%2F%2Fblogfiles.naver.net%2Fdata5%2F2004%2F11%2F30%2F83%2Fstrawberry-orchidchoi.jpg&type=b400\n",
      "https://search.pstatic.net/common/?src=http%3A%2F%2Fblogfiles.naver.net%2F20140226_282%2Fdream1cm_1393421114103zugJu_JPEG%2F%25B5%25FE%25B1%25E2.jpg&type=b400\n",
      "https://search.pstatic.net/common/?src=http%3A%2F%2Fblogfiles.naver.net%2F20120615_269%2Ftwins1177_1339743946658iHMjd_PNG%2F%25B4%25DE%25B1%25E2_%25284%2529.png&type=b400\n",
      "https://search.pstatic.net/common/?src=http%3A%2F%2Fpost.phinf.naver.net%2F20160715_100%2F146854600332096pTQ_JPEG%2FIVAHLBie1hSjALsmja5F2r92v99o.jpg&type=b400\n",
      "https://search.pstatic.net/common/?src=http%3A%2F%2Fblogfiles.naver.net%2FMjAxOTAzMTBfMjY1%2FMDAxNTUyMjE3MjY4MDE3.UmgoWNH-pfFCYudQxaPhYd1DYPdN3hR3RWQQ10RnZGUg.Xa4dP-LepPdlrZeO7f3vQ-iD5AN9pwJDMKSxyNc1Iiog.JPEG.hyeryun840%2F%25C5%25F0%25C3%25CC%25B5%25FE%25B1%25E2%25B3%25F3%25C0%25E51.jpg&type=b400\n",
      "https://search.pstatic.net/common/?src=http%3A%2F%2Fblogfiles.naver.net%2FMjAyMDAxMTNfMTM2%2FMDAxNTc4OTI2MjI2MTM1.gX-bPVTLIxDfMA8p6jaEtJJnDZ-rR4WpkIHidGaBCYsg.VRDOCexDfmk7P-PKgOdejeKjeLtD60Cru8d984_pj20g.JPEG.exgrpmfbjye%2F96d652754aadc43c4058dde9bd7597e057f3fc8282e569.jpg&type=b400\n",
      "https://search.pstatic.net/common/?src=http%3A%2F%2Fblogfiles.naver.net%2FMjAxNjEyMjJfNDYg%2FMDAxNDgyNDAwNDM1ODk2.AG16VWXxunGRz3jLZWXgYDk4UETGuybt61ltQ7Rqzjkg.5gtl7SKCg1guOs8vC8wA79HijXAycCRRk9BFgheYz6Ag.JPEG.double_jej%2F%25B5%25FE%25B1%25E2%25BA%25DF%25C6%25E4_%25289%2529.JPG&type=b400\n",
      "https://search.pstatic.net/common/?src=http%3A%2F%2Fblogfiles.naver.net%2F20151112_247%2Fokmotor1300_1447288813034ffMWh_JPEG%2F%25B4%25DE%25C4%25DE%25C7%25D1_%25B5%25FE%25B1%25E2%25C0%25C7_%25C8%25BF%25B4%25C9%25B0%25FA_%25B5%25FE%25B1%25E2_1%25B0%25B3_%25C4%25AE%25B7%25CE%25B8%25AE_%25281%2529.jpg&type=b400\n",
      "https://search.pstatic.net/common/?src=http%3A%2F%2Fblogfiles.naver.net%2F20130415_17%2Fkimig80_1366034255282UnCeY_JPEG%2FimagesCAH2MLZD.jpg&type=b400\n",
      "https://search.pstatic.net/common/?src=http%3A%2F%2Fblogfiles.naver.net%2F20130311_72%2Fepm002_1362966657405Pt3LF_JPEG%2F2013-03-11_10%253B49%253B39.jpg&type=b400\n",
      "https://search.pstatic.net/common/?src=http%3A%2F%2Fblogfiles.naver.net%2F20111229_187%2Fohj2023_1325160748266J11XF_JPEG%2FIMG_0794.jpg&type=b400\n",
      "https://search.pstatic.net/common/?src=http%3A%2F%2Fblogfiles.naver.net%2F20130824_57%2Fchoasoap81_1377303809941uu3xS_JPEG%2F%25B5%25FE%25B1%25E2.JPG&type=b400\n",
      "https://search.pstatic.net/common/?src=http%3A%2F%2Fblogfiles.naver.net%2F20140320_64%2Fycstar01000_1395280387869RVFDH_JPEG%2F%25B5%25FE%25B1%25E2%25C8%25BF%25B4%25C91.jpg&type=b400\n",
      "https://search.pstatic.net/common/?src=http%3A%2F%2Fblogfiles.naver.net%2Fdata2%2F2004%2F2%2F5%2F39%2F%25B5%25FE%25B1%25E2%25BB%25E7%25C1%25F82.jpg&type=b400\n",
      "https://search.pstatic.net/common/?src=http%3A%2F%2Fblogfiles.naver.net%2FMjAxOTA1MjJfMTIx%2FMDAxNTU4NDkzNDc2NTU2.hBxP9Tx1BFbOgonHe-VkIN6CLmCdueBCbPpyinFcah0g.5bogCuOFtZh9tFMKlls7AgJh8kv0WJR-tfHLmNvdbVwg.JPEG.nahmeerang0%2F%25B5%25FE%25B1%25E2IMG_20190517_141255.jpg&type=b400\n",
      "https://search.pstatic.net/common/?src=http%3A%2F%2Fblogfiles.naver.net%2F20110404_261%2Fmhdc_1301922703484xgRjn_JPEG%2Fst-1.jpg&type=b400\n",
      "https://search.pstatic.net/common/?src=http%3A%2F%2Fimgnews.naver.net%2Fimage%2F5002%2F2019%2F03%2F26%2F0001176656_001_20190326140403964.jpg&type=b400\n",
      "https://search.pstatic.net/common/?src=http%3A%2F%2Fblogfiles.naver.net%2FMjAxOTExMzBfNDEg%2FMDAxNTc1MTE3MTgxNjk5.eUosVHvA1CRfgOslnuE-pKhsGSKjWPSapixOuG30-zog.AiCfqnSLDMYHFR8q1CtOvj-RCB2fmtJXRjnDhomWIMQg.JPEG.honeyking215%2F%25B5%25FE%25B1%25E24.jpg&type=b400\n",
      "https://search.pstatic.net/common/?src=http%3A%2F%2Fblogfiles.naver.net%2F20120203_63%2Flilylove1235_1328251460580Wr8lx_JPEG%2F2012-02-03_15%253B38%253B59.jpg&type=b400\n",
      "https://search.pstatic.net/common/?src=http%3A%2F%2Fblogfiles.naver.net%2FMjAxODEyMjRfMjgx%2FMDAxNTQ1NjM0MTMyNDQz.PqYFWLYRrUuAppXkqNaPzZAphIvm4lxYQ6cR9_6wvC4g.YNlwBBwXnG0-BY58rSfoNNDS8qvp0Fc-gupeHc3s4BYg.PNG.kecoprumy%2F%25B5%25FE%25B1%25E2.png&type=b400\n",
      "https://search.pstatic.net/common/?src=http%3A%2F%2Fblogfiles.naver.net%2F20130325_65%2Fgoisale_1364217883999V6t9A_JPEG%2F%25C7%25CF%25B4%25C3%25B6%25A5%25BF%25B5%25B3%25F3%25C1%25B6%25C7%25D5%25B9%25FD%25C0%25CE_IMG_1305_2_%25B3%25ED%25BB%25EA_%25B5%25FE%25B1%25E2%25C3%25E0%25C1%25A6.JPG&type=b400\n",
      "https://search.pstatic.net/common/?src=http%3A%2F%2Fcafefiles.naver.net%2F20130209_284%2Fkldj4800_1360420942643rAMiN_JPEG%2FmiX7dQW.jpg&type=b400\n",
      "https://search.pstatic.net/common/?src=http%3A%2F%2Fblogfiles.naver.net%2F20120902_3%2Fmama9608_1346580089793XwaCu_JPEG%2F%25C0%25CC%25BB%25F3%25C7%25D1%25B5%25FE%25B1%25E21.jpg&type=b400\n",
      "https://search.pstatic.net/common/?src=http%3A%2F%2Fblogfiles.naver.net%2F20150107_255%2Fxodid2027_1420593806396FlMYa_JPEG%2F%25B5%25FE%25B1%25E2%25BB%25E7%25C1%25F8_%25282%2529.jpg&type=b400\n",
      "https://search.pstatic.net/common/?src=http%3A%2F%2Fblogfiles.naver.net%2Fdata1%2F2004%2F2%2F23%2F27%2F%25B5%25FE%25B1%25E2%25282%2529.jpg&type=b400\n",
      "https://search.pstatic.net/common/?src=http%3A%2F%2Fpost.phinf.naver.net%2FMjAyMDAxMjNfNTIg%2FMDAxNTc5NzU2NTcyODQx.2JziQQfxqgp7D-6j37m0RLrtlcDUiSduMcSiwNX2Zswg.UkQwuDsYdJGF4ByFHudLK5fUJg9QinXy-YL5qY3vWpwg.JPEG%2FIFIFxh5WDaL2UUl5D0AG-jEdjb7M.jpg&type=b400\n",
      "https://search.pstatic.net/common/?src=http%3A%2F%2Fimgnews.naver.net%2Fimage%2F5093%2F2014%2F04%2F11%2Fnews_1397177824_675664_main1_59_20140411100503.jpg&type=b400\n",
      "https://search.pstatic.net/common/?src=http%3A%2F%2Fpost.phinf.naver.net%2FMjAyMDAxMjNfMjA0%2FMDAxNTc5NzQ3NTA1MDEx.LuqA5Co_aU_T_sOWnc0D04Gt0f9cHqsUeiIcbYsfTU4g.LjfkR6-EjLPTZAi1yFO2BiF5aqiDZBU9vuCfkHxvZ-Eg.JPEG%2FIo_43pXgvGi0rMnrMaPAGzYbcGGI.jpg&type=b400\n",
      "https://search.pstatic.net/common/?src=http%3A%2F%2Fblogfiles.naver.net%2F20150312_152%2Fgoblincape_1426150361053uBOos_JPEG%2FNaverBlog_20150126_191858_06.jpg&type=b400\n",
      "https://search.pstatic.net/common/?src=http%3A%2F%2Fblogfiles.naver.net%2Fdata19%2F2007%2F3%2F30%2F110%2Fsd1x7574-rsn1-candyra9.jpg&type=b400\n",
      "https://search.pstatic.net/common/?src=http%3A%2F%2Fblogfiles.naver.net%2F20111010_96%2Flovefarm063_131820640756064Mbq_JPEG%2FSNV31712.JPG&type=b400\n",
      "https://search.pstatic.net/common/?src=http%3A%2F%2Fblogfiles.naver.net%2F20140501_116%2Fsalt16_139891953344705zqx_JPEG%2Fugc.jpg&type=b400\n",
      "https://search.pstatic.net/common/?src=http%3A%2F%2Fblogfiles.naver.net%2Fdata2%2F2004%2F2%2F6%2F73%2F%25B5%25FE%25B1%25E22.gif&type=b400\n",
      "https://search.pstatic.net/common/?src=http%3A%2F%2Fblogfiles.naver.net%2FMjAxOTA1MTVfMTYw%2FMDAxNTU3OTA2NDk3MzQ4.FQIjKazRnggtv6I2M2iUbdb1rqSICu2Q5Ta5hjhsmLsg.BneHSfY7os1bze_e17lZT8m_uoq1evXatiBp9OrtnuAg.GIF.youngjy1914%2F%25B5%25FE%25B1%25E2%25B4%25C2%25B3%25BB%25B2%25A8%25B4%25D9%25B3%25C9.GIF.gif&type=b400\n",
      "https://search.pstatic.net/common/?src=http%3A%2F%2Fblogfiles.naver.net%2FMjAxOTEyMDlfMjk3%2FMDAxNTc1ODcxMTM4MTAx.VfmdHkq-5Ks_PJC9hrkYOAgmV4f8kfBkiNGKAE9cVhAg.jPKkGQO6ZL3yTsjJEuGT1XAj8-NxTjIw_esGmro9mtAg.PNG.yeskim83%2F%25B5%25FE%25B1%25E2.PNG&type=b400\n",
      "https://search.pstatic.net/common/?src=http%3A%2F%2Fblogfiles.naver.net%2Fdata5%2F2005%2F2%2F22%2F282%2F3109_004-liush.jpg&type=b400\n"
     ]
    },
    {
     "name": "stdout",
     "output_type": "stream",
     "text": [
      "https://search.pstatic.net/common/?src=http%3A%2F%2Fpost.phinf.naver.net%2F20160412_111%2F1460390606154H95DP_JPEG%2FIsCMKbYNJDpKcii7SQl5QfJNzn-k.jpg&type=b400\n",
      "https://search.pstatic.net/common/?src=http%3A%2F%2Fblogfiles.naver.net%2Fdata11%2F2005%2F8%2F18%2F272%2F%25B5%25FE%25B1%25E2%25C4%25A1%25C1%25EE%25C4%25C9%25C0%25CD-shron4321.jpg&type=b400\n",
      "https://search.pstatic.net/common/?src=http%3A%2F%2Fblogfiles.naver.net%2Fdata12%2F2005%2F7%2F7%2F103%2F%25B5%25FE%25B1%25E2_%25BE%25C6%25C0%25CC%25BD%25BA%25C5%25A9%25B8%25B2-narluv.jpg&type=b400\n",
      "https://search.pstatic.net/common/?src=http%3A%2F%2Fcafefiles.naver.net%2Fdata8%2F2005%2F4%2F26%2F124%2Fdragon3205_5.jpg&type=b400\n",
      "https://search.pstatic.net/common/?src=http%3A%2F%2Fblogfiles.naver.net%2Fdata1%2F2003%2F12%2F2%2F78%2F%2525B5%2525FE%2525B1%2525E2.jpg&type=b400\n",
      "https://search.pstatic.net/common/?src=http%3A%2F%2Fcafefiles.naver.net%2F20130209_181%2Fkldj4800_1360420943068JVrOQ_PNG%2FmS88iSF.png&type=b400\n",
      "https://search.pstatic.net/common/?src=http%3A%2F%2Fpost.phinf.naver.net%2F20150331_98%2Fjejupartysum_1427796789690g9nNS_PNG%2Fmug_obj_142779678469669274.jpg&type=b400\n",
      "다운로드 완료\n"
     ]
    }
   ],
   "source": [
    "img = soup.find_all(class_='_img')\n",
    "n = 1\n",
    "for i in img:\n",
    "    imgurl = i['data-source']\n",
    "    with urlopen(imgurl) as f:\n",
    "        with open('./img/' + plus_url + str(n) + '.jpg','wb') as h:\n",
    "            img = f.read()\n",
    "            h.write(img)\n",
    "    n +=1\n",
    "    print(imgurl)\n",
    "print('다운로드 완료')"
   ]
  },
  {
   "cell_type": "code",
   "execution_count": null,
   "metadata": {},
   "outputs": [],
   "source": []
  }
 ],
 "metadata": {
  "kernelspec": {
   "display_name": "Python 3",
   "language": "python",
   "name": "python3"
  },
  "language_info": {
   "codemirror_mode": {
    "name": "ipython",
    "version": 3
   },
   "file_extension": ".py",
   "mimetype": "text/x-python",
   "name": "python",
   "nbconvert_exporter": "python",
   "pygments_lexer": "ipython3",
   "version": "3.6.10"
  }
 },
 "nbformat": 4,
 "nbformat_minor": 4
}

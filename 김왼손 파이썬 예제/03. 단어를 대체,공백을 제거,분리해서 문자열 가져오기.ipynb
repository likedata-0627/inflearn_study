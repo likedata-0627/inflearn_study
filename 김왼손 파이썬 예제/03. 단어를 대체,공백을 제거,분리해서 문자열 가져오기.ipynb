{
 "cells": [
  {
   "cell_type": "markdown",
   "metadata": {},
   "source": [
    "#### strip()은 공백을 제거 하는것\n",
    "#### split()은 공백으로 분리를 하는 것"
   ]
  },
  {
   "cell_type": "code",
   "execution_count": 1,
   "metadata": {},
   "outputs": [],
   "source": [
    "def first_word(text:str):\n",
    "    text = text.replace('.',' ').replace(',',' ').strip()\n",
    "    text = text.split()\n",
    "    \n",
    "    return text[0]"
   ]
  },
  {
   "cell_type": "code",
   "execution_count": 2,
   "metadata": {},
   "outputs": [],
   "source": [
    "if __name__ =='_main__':\n",
    "    print('Example: ')\n",
    "    print(first_word('Hello world'))\n",
    "    \n",
    "    assert first_word('Hello world') == 'Hello'\n",
    "    assert first_word('a word') == 'a'\n",
    "    assert first_word(\"don't touch it\") == \"don't\"\n",
    "    assert first_word('greetings, friends') == 'greetings'\n",
    "    assert first_word('... and do on ...') == 'and'\n",
    "    assert first_word('hi') == 'hi'\n",
    "    assert first_word('Hello.world') == 'Hello'\n",
    "    print(\"Coding complete? click 'check' to earn cool rewards!\")\n",
    "    "
   ]
  },
  {
   "cell_type": "code",
   "execution_count": 3,
   "metadata": {},
   "outputs": [
    {
     "data": {
      "text/plain": [
       "'hi'"
      ]
     },
     "execution_count": 3,
     "metadata": {},
     "output_type": "execute_result"
    }
   ],
   "source": [
    "first_word(\"hi. everyone. my nickname is sehun's girlfriend\")"
   ]
  },
  {
   "cell_type": "code",
   "execution_count": null,
   "metadata": {},
   "outputs": [],
   "source": []
  }
 ],
 "metadata": {
  "kernelspec": {
   "display_name": "Python 3",
   "language": "python",
   "name": "python3"
  },
  "language_info": {
   "codemirror_mode": {
    "name": "ipython",
    "version": 3
   },
   "file_extension": ".py",
   "mimetype": "text/x-python",
   "name": "python",
   "nbconvert_exporter": "python",
   "pygments_lexer": "ipython3",
   "version": "3.6.10"
  }
 },
 "nbformat": 4,
 "nbformat_minor": 4
}

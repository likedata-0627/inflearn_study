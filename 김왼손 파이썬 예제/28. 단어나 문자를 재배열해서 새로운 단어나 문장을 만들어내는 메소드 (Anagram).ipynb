{
 "cells": [
  {
   "cell_type": "markdown",
   "metadata": {},
   "source": [
    "- 공백을 고려하지 않음 => 공백을 제거\n",
    "- 대소문자 고려 안함 => 모두 소문자로 혹은 대문자로 만들어줌\n",
    "- 모든 문자 정렬 후 비교"
   ]
  },
  {
   "cell_type": "code",
   "execution_count": 2,
   "metadata": {},
   "outputs": [],
   "source": [
    " def verify_anagrams(first_word, second_word):\n",
    "        \n",
    "    return sorted(first_word.lower().replace(' ','')) == sorted(second_word.lower().replace(' ',''))"
   ]
  },
  {
   "cell_type": "code",
   "execution_count": 6,
   "metadata": {
    "scrolled": true
   },
   "outputs": [],
   "source": [
    "if __name__ =='__main__':\n",
    "    \n",
    "    assert isinstance(verify_anagrams('a','z'), bool), 'Boolean!'\n",
    "    assert verify_anagrams('Programming','Gram Ring Mop') == True, 'Gram of code'\n",
    "    assert verify_anagrams('Hello','Ole Oh') == False, 'Hello! Ole Oh'\n",
    "    assert verify_anagrams('Kyoto','Tokyo') == True, 'The global warning crisis of 3002'\n",
    "    "
   ]
  },
  {
   "cell_type": "code",
   "execution_count": 7,
   "metadata": {},
   "outputs": [
    {
     "data": {
      "text/plain": [
       "False"
      ]
     },
     "execution_count": 7,
     "metadata": {},
     "output_type": "execute_result"
    }
   ],
   "source": [
    "verify_anagrams('a','z')"
   ]
  },
  {
   "cell_type": "code",
   "execution_count": 9,
   "metadata": {},
   "outputs": [
    {
     "data": {
      "text/plain": [
       "True"
      ]
     },
     "execution_count": 9,
     "metadata": {},
     "output_type": "execute_result"
    }
   ],
   "source": [
    "verify_anagrams('Hi all', 'all hi')"
   ]
  },
  {
   "cell_type": "code",
   "execution_count": null,
   "metadata": {},
   "outputs": [],
   "source": []
  }
 ],
 "metadata": {
  "kernelspec": {
   "display_name": "Python 3",
   "language": "python",
   "name": "python3"
  },
  "language_info": {
   "codemirror_mode": {
    "name": "ipython",
    "version": 3
   },
   "file_extension": ".py",
   "mimetype": "text/x-python",
   "name": "python",
   "nbconvert_exporter": "python",
   "pygments_lexer": "ipython3",
   "version": "3.6.10"
  }
 },
 "nbformat": 4,
 "nbformat_minor": 4
}

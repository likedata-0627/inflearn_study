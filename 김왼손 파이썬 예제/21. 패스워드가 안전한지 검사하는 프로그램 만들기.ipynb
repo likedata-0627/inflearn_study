{
 "cells": [
  {
   "cell_type": "markdown",
   "metadata": {},
   "source": [
    "조건 \n",
    "- 10자 이상\n",
    "- 대문자 소문자 숫자 최소 한개씩 포함해야 함\n",
    "- 입력은 문자열\n",
    "- 출력은 true 혹은 false로"
   ]
  },
  {
   "cell_type": "code",
   "execution_count": 1,
   "metadata": {},
   "outputs": [],
   "source": [
    " def checkio(data:str):\n",
    "    if len(data) <10: #글자 10글자 미만 판단 여부\n",
    "        return False\n",
    "    if data.upper() == data: #대문자 판단\n",
    "        return False\n",
    "    if data.lower() == data: # 소문자 판단\n",
    "        return False\n",
    "    return any(c.isdigit() for c in data) #isdigit 숫자열이 포함하는지를 판단할 수 있음"
   ]
  },
  {
   "cell_type": "code",
   "execution_count": 4,
   "metadata": {
    "scrolled": true
   },
   "outputs": [
    {
     "name": "stdout",
     "output_type": "stream",
     "text": [
      "Coding complete \"Click\" to review your tests and earn cool rewards\n"
     ]
    }
   ],
   "source": [
    "if __name__ =='__main__':\n",
    "\n",
    "    assert checkio('A1213pokl') == False, '1st example'\n",
    "    assert checkio('bAse730onE4') == True, '2nd example'\n",
    "    assert checkio('asasasasasasasasasas') == False, '3rd example'\n",
    "    assert checkio('QWERTYqwert') == False, '4th example'\n",
    "    assert checkio('123456123456') == False, '5th example'\n",
    "    assert checkio('QWERT911poqqqq') == True, '6th example'\n",
    "    print('Coding complete \"Click\" to review your tests and earn cool rewards')"
   ]
  },
  {
   "cell_type": "code",
   "execution_count": 5,
   "metadata": {},
   "outputs": [
    {
     "data": {
      "text/plain": [
       "True"
      ]
     },
     "execution_count": 5,
     "metadata": {},
     "output_type": "execute_result"
    }
   ],
   "source": [
    "checkio('ULFFunH8ni')"
   ]
  },
  {
   "cell_type": "code",
   "execution_count": null,
   "metadata": {},
   "outputs": [],
   "source": []
  }
 ],
 "metadata": {
  "kernelspec": {
   "display_name": "Python 3",
   "language": "python",
   "name": "python3"
  },
  "language_info": {
   "codemirror_mode": {
    "name": "ipython",
    "version": 3
   },
   "file_extension": ".py",
   "mimetype": "text/x-python",
   "name": "python",
   "nbconvert_exporter": "python",
   "pygments_lexer": "ipython3",
   "version": "3.6.10"
  }
 },
 "nbformat": 4,
 "nbformat_minor": 4
}

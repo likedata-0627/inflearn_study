{
 "cells": [
  {
   "cell_type": "code",
   "execution_count": 1,
   "metadata": {},
   "outputs": [],
   "source": [
    " def popular_word(text:str, words:list):\n",
    "    text = text.lower() # 소문자로 만들기 \n",
    "    splitted_words = text.split() #스플릿 메소드 사용해 공백단위호 끊어주기\n",
    "    answer = {}\n",
    "    \n",
    "    for word in words: \n",
    "        answer[word] = splitted_words.count(word) \n",
    "        \n",
    "    return answer"
   ]
  },
  {
   "cell_type": "code",
   "execution_count": 2,
   "metadata": {},
   "outputs": [
    {
     "name": "stdout",
     "output_type": "stream",
     "text": [
      "Example: \n",
      "{'was': 3, 'near': 0, 'three': 0, 'i': 4}\n"
     ]
    }
   ],
   "source": [
    "if __name__ =='__main__':\n",
    "\n",
    "    print('Example: ')\n",
    "    print(popular_word('''\n",
    "    When I was one\n",
    "    I had just begun\n",
    "    When I was Two\n",
    "    I was nearly new\n",
    "    ''', {'i','was','three','near'}))\n",
    "    \n",
    "    assert (popular_word('''\n",
    "    When I was one\n",
    "    I had just begun\n",
    "    When I was Two\n",
    "    I was nearly new\n",
    "    ''', ['i','was','three','near']))\n",
    "    \n",
    "    assert (popular_word('''\n",
    "    When I was one\n",
    "    I had just begun\n",
    "    When I was Two\n",
    "    I was nearly new\n",
    "    ''', ['i','was','three','near']) =={\n",
    "        'i':4,\n",
    "        'was':3,\n",
    "        'three':0,\n",
    "        'near':0\n",
    "    })\n",
    "    "
   ]
  },
  {
   "cell_type": "code",
   "execution_count": 3,
   "metadata": {},
   "outputs": [
    {
     "data": {
      "text/plain": [
       "{'one': 1, 'two': 1, 'three': 0}"
      ]
     },
     "execution_count": 3,
     "metadata": {},
     "output_type": "execute_result"
    }
   ],
   "source": [
    "popular_word('''\n",
    "    When I was one\n",
    "    I had just begun\n",
    "    When I was Two\n",
    "    I was nearly new\n",
    "    ''', ['one','two','three']) "
   ]
  },
  {
   "cell_type": "code",
   "execution_count": null,
   "metadata": {},
   "outputs": [],
   "source": []
  }
 ],
 "metadata": {
  "kernelspec": {
   "display_name": "Python 3",
   "language": "python",
   "name": "python3"
  },
  "language_info": {
   "codemirror_mode": {
    "name": "ipython",
    "version": 3
   },
   "file_extension": ".py",
   "mimetype": "text/x-python",
   "name": "python",
   "nbconvert_exporter": "python",
   "pygments_lexer": "ipython3",
   "version": "3.6.10"
  }
 },
 "nbformat": 4,
 "nbformat_minor": 4
}

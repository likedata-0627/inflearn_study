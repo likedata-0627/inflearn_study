{
 "cells": [
  {
   "cell_type": "code",
   "execution_count": 1,
   "metadata": {},
   "outputs": [],
   "source": [
    " def best_stock(data):\n",
    "    max_price = 0\n",
    "    answer = ''\n",
    "    \n",
    "    for s in data: #data가 딕셔너리 일때 키만 가져와서 s는 키가 되는 것이고\n",
    "        if data[s] > max_price: #data[s] 는 키의 값을 가져와서 비교하는 것\n",
    "            max_price = data[s]\n",
    "            answer =s\n",
    "            \n",
    "    return answer"
   ]
  },
  {
   "cell_type": "code",
   "execution_count": 5,
   "metadata": {},
   "outputs": [
    {
     "name": "stdout",
     "output_type": "stream",
     "text": [
      "Example: \n",
      "ATX\n"
     ]
    }
   ],
   "source": [
    "if __name__ =='__main__':\n",
    "\n",
    "    print('Example: ')\n",
    "    print(best_stock({\n",
    "        'CAC':10.0,\n",
    "        'ATX':390.2,\n",
    "        'WIG':1.2\n",
    "    }))\n",
    "    \n",
    "    assert best_stock({\n",
    "        'CAC':10.0,\n",
    "        'ATX':390.2,\n",
    "        'WIG':1.2\n",
    "    }) == 'ATX', \"First\"\n",
    "    \n",
    "    assert best_stock({\n",
    "        'CAC':91.1,\n",
    "        'ATX':1.01,\n",
    "        'TAST':120.9\n",
    "    }) == 'TAST', \"Second\""
   ]
  },
  {
   "cell_type": "code",
   "execution_count": 6,
   "metadata": {},
   "outputs": [
    {
     "data": {
      "text/plain": [
       "'goog'"
      ]
     },
     "execution_count": 6,
     "metadata": {},
     "output_type": "execute_result"
    }
   ],
   "source": [
    "best_stock({'goog':100000.01, 'atx':230})"
   ]
  },
  {
   "cell_type": "code",
   "execution_count": null,
   "metadata": {},
   "outputs": [],
   "source": []
  }
 ],
 "metadata": {
  "kernelspec": {
   "display_name": "Python 3",
   "language": "python",
   "name": "python3"
  },
  "language_info": {
   "codemirror_mode": {
    "name": "ipython",
    "version": 3
   },
   "file_extension": ".py",
   "mimetype": "text/x-python",
   "name": "python",
   "nbconvert_exporter": "python",
   "pygments_lexer": "ipython3",
   "version": "3.6.10"
  }
 },
 "nbformat": 4,
 "nbformat_minor": 4
}

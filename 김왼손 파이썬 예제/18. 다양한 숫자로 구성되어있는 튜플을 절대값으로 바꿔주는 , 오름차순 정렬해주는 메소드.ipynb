{
 "cells": [
  {
   "cell_type": "markdown",
   "metadata": {},
   "source": [
    "### 정렬을 튜플로 변환해주고\n",
    "###  key에 abs절대값을 지정해줘서, 오름차순으로 정렬\n"
   ]
  },
  {
   "cell_type": "code",
   "execution_count": 1,
   "metadata": {},
   "outputs": [],
   "source": [
    " def checkio(numbers_array: tuple):\n",
    "    return tuple(sorted(numbers_array, key=abs))"
   ]
  },
  {
   "cell_type": "markdown",
   "metadata": {},
   "source": [
    "### 만약에 정렬이 튜플이나 리스트 형태가아니라면 정렬을 리스트로 변환해주는 리스트"
   ]
  },
  {
   "cell_type": "code",
   "execution_count": 3,
   "metadata": {
    "scrolled": true
   },
   "outputs": [],
   "source": [
    "if __name__ =='__main__':\n",
    "    def check_it(array):\n",
    "        if not isinstance(array, (list, tuple)):\n",
    "            raise TypeError('The result should be s list or tuple')\n",
    "        return list(array)\n",
    "    \n",
    "    assert check_it(checkio((-20,-5,10,15))) == [-5,10,15,-20], 'Example'\n",
    "    assert check_it(checkio((1,2,3,0))) == [0,1,2,3], 'Positive numbers'\n",
    "    assert check_it(checkio((-1,-2,-3,0))) == [0,-1,-2,-3], 'Navigator numbers'"
   ]
  },
  {
   "cell_type": "code",
   "execution_count": 4,
   "metadata": {},
   "outputs": [
    {
     "data": {
      "text/plain": [
       "(3, -76)"
      ]
     },
     "execution_count": 4,
     "metadata": {},
     "output_type": "execute_result"
    }
   ],
   "source": [
    "checkio([3,-76])"
   ]
  },
  {
   "cell_type": "code",
   "execution_count": null,
   "metadata": {},
   "outputs": [],
   "source": []
  }
 ],
 "metadata": {
  "kernelspec": {
   "display_name": "Python 3",
   "language": "python",
   "name": "python3"
  },
  "language_info": {
   "codemirror_mode": {
    "name": "ipython",
    "version": 3
   },
   "file_extension": ".py",
   "mimetype": "text/x-python",
   "name": "python",
   "nbconvert_exporter": "python",
   "pygments_lexer": "ipython3",
   "version": "3.6.10"
  }
 },
 "nbformat": 4,
 "nbformat_minor": 4
}

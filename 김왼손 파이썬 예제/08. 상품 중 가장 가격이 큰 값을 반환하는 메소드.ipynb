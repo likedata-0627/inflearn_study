{
 "cells": [
  {
   "cell_type": "code",
   "execution_count": 2,
   "metadata": {},
   "outputs": [],
   "source": [
    " def bigger_price(limit:int, data:list):\n",
    "# sort가 기본이 오름차순인데 reverse=true라고 했으므로, \n",
    "# price의 내림차순으로, limit 만큼 남겨두어야 함. (슬라이싱을 이용)\n",
    "    return sorted(data, key=lambda x: x['price'], reverse=True)[:limit] "
   ]
  },
  {
   "cell_type": "code",
   "execution_count": 10,
   "metadata": {},
   "outputs": [
    {
     "name": "stdout",
     "output_type": "stream",
     "text": [
      "Example: \n",
      "[{'name': 'wine', 'price': 138}, {'name': 'bread', 'price': 100}]\n"
     ]
    }
   ],
   "source": [
    "if __name__ =='__main__':\n",
    "    from pprint import pprint\n",
    "    print('Example: ')\n",
    "    pprint(bigger_price(2, [\n",
    "        {'name':'bread','price':100},\n",
    "        {'name':'wine','price':138},\n",
    "        {'name':'meat','price':15},\n",
    "        {'name':'water','price':1}\n",
    "    ]))\n",
    "    \n",
    "    assert(bigger_price(2, [\n",
    "        {'name':'bread','price':100},\n",
    "        {'name':'wine','price':138},\n",
    "        {'name':'meat','price':15},\n",
    "        {'name':'water','price':1}\n",
    "    ])) == [\n",
    "        {'name':'wine','price':138},\n",
    "        {'name':'bread','price':100}\n",
    "    ], 'first'\n",
    "    \n",
    "    assert(bigger_price(1, [\n",
    "        {'name':'pent','price':5},\n",
    "        {'name':'whiteboard','price':170}\n",
    "    ])) == [\n",
    "        {'name':'whiteboard','price':170}\n",
    "    ], 'second'\n",
    "    \n",
    "    "
   ]
  },
  {
   "cell_type": "code",
   "execution_count": 11,
   "metadata": {},
   "outputs": [
    {
     "data": {
      "text/plain": [
       "[{'name': 'wine', 'price': 138}, {'name': 'milk', 'price': 25}]"
      ]
     },
     "execution_count": 11,
     "metadata": {},
     "output_type": "execute_result"
    }
   ],
   "source": [
    "bigger_price(2, [\n",
    "        {'name':'bread','price':10},\n",
    "        {'name':'wine','price':138},\n",
    "        {'name':'meat','price':15},\n",
    "        {'name':'milk','price':25}\n",
    "    ])"
   ]
  },
  {
   "cell_type": "code",
   "execution_count": null,
   "metadata": {},
   "outputs": [],
   "source": []
  }
 ],
 "metadata": {
  "kernelspec": {
   "display_name": "Python 3",
   "language": "python",
   "name": "python3"
  },
  "language_info": {
   "codemirror_mode": {
    "name": "ipython",
    "version": 3
   },
   "file_extension": ".py",
   "mimetype": "text/x-python",
   "name": "python",
   "nbconvert_exporter": "python",
   "pygments_lexer": "ipython3",
   "version": "3.6.10"
  }
 },
 "nbformat": 4,
 "nbformat_minor": 4
}

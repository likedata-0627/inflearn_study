{
 "cells": [
  {
   "cell_type": "markdown",
   "metadata": {},
   "source": [
    "- 입력은 두개의 문자열\n",
    "- 출력은 문자열\n",
    "- set 자료형은 교집합이나 합집합의 자료형을 구할 수 있음\n",
    "- join 메소드를 사용하면 단어를 다시 연결할 수 있음\n",
    "- 결과 데이터는 정렬(sort)되어 있어야 함, 기본값은 오름차순임. 고로 알파벳 순으로 정렬"
   ]
  },
  {
   "cell_type": "code",
   "execution_count": 1,
   "metadata": {},
   "outputs": [],
   "source": [
    " def checkio(first, second):\n",
    "    first_set, second_set = set(first.split(',')), set(second.split(','))\n",
    "    common = first_set.intersection(second_set)\n",
    "    \n",
    "    return ','.join(sorted(common))"
   ]
  },
  {
   "cell_type": "code",
   "execution_count": 5,
   "metadata": {
    "scrolled": true
   },
   "outputs": [],
   "source": [
    "if __name__ =='__main__':\n",
    "    assert checkio('hello,world','hello,earth') == 'hello','Hello'\n",
    "    assert checkio('one,two,three','four,five,six') == '','Too different'\n",
    "    assert checkio('one,two,three','four,five,one,two,six,three') == 'one,three,two','1 2 3'"
   ]
  },
  {
   "cell_type": "code",
   "execution_count": 6,
   "metadata": {},
   "outputs": [
    {
     "data": {
      "text/plain": [
       "'inae'"
      ]
     },
     "execution_count": 6,
     "metadata": {},
     "output_type": "execute_result"
    }
   ],
   "source": [
    "checkio('inae, lovely','inae, pretty')"
   ]
  },
  {
   "cell_type": "code",
   "execution_count": null,
   "metadata": {},
   "outputs": [],
   "source": []
  }
 ],
 "metadata": {
  "kernelspec": {
   "display_name": "Python 3",
   "language": "python",
   "name": "python3"
  },
  "language_info": {
   "codemirror_mode": {
    "name": "ipython",
    "version": 3
   },
   "file_extension": ".py",
   "mimetype": "text/x-python",
   "name": "python",
   "nbconvert_exporter": "python",
   "pygments_lexer": "ipython3",
   "version": "3.6.10"
  }
 },
 "nbformat": 4,
 "nbformat_minor": 4
}

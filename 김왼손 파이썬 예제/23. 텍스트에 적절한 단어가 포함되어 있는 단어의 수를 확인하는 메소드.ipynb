{
 "cells": [
  {
   "cell_type": "markdown",
   "metadata": {},
   "source": [
    "조건\n",
    "- 단어는 통으로, 부분으로 나올수 있으며\n",
    "- 소문자로 나올수 있고, 반복안됨\n",
    "- 여러번 나타나도 한번만 계산\n",
    "- 입력은 텍스트오 단어\n",
    "- 출력은 단어의 수\n",
    "- 텍스트는 문자열로 주어지고, 단어는 세트로 주어짐"
   ]
  },
  {
   "cell_type": "code",
   "execution_count": 1,
   "metadata": {},
   "outputs": [],
   "source": [
    " def count_words(text:str, words:set):\n",
    "    result = 0 # 단어 개수를 세기 위해서 변수를 만듬\n",
    "    \n",
    "    for word in words:\n",
    "        if word in text.lower():\n",
    "            result += 1 # 단어가 있으면 하나씩 들어가도록 만듬 \n",
    "    return result"
   ]
  },
  {
   "cell_type": "code",
   "execution_count": 2,
   "metadata": {
    "scrolled": true
   },
   "outputs": [],
   "source": [
    "if __name__ =='__main__':\n",
    "\n",
    "    assert count_words('How aresjfhdskfhskd you?',{'how','are','you','hello'}) ==3, 'Example'\n",
    "    assert count_words('bananas, give me bananas!!!!!!!',{'banana','bananas'}) ==2, 'BANANAS'\n",
    "    assert count_words('Lorem ipsum delor sit amet, consectetuer adipiscing quit',{'sum','helmet','infinity','anything'}) ==1, 'weird text'"
   ]
  },
  {
   "cell_type": "code",
   "execution_count": 4,
   "metadata": {},
   "outputs": [
    {
     "data": {
      "text/plain": [
       "0"
      ]
     },
     "execution_count": 4,
     "metadata": {},
     "output_type": "execute_result"
    }
   ],
   "source": [
    "count_words('ab cd',['abc'])"
   ]
  },
  {
   "cell_type": "code",
   "execution_count": null,
   "metadata": {},
   "outputs": [],
   "source": []
  }
 ],
 "metadata": {
  "kernelspec": {
   "display_name": "Python 3",
   "language": "python",
   "name": "python3"
  },
  "language_info": {
   "codemirror_mode": {
    "name": "ipython",
    "version": 3
   },
   "file_extension": ".py",
   "mimetype": "text/x-python",
   "name": "python",
   "nbconvert_exporter": "python",
   "pygments_lexer": "ipython3",
   "version": "3.6.10"
  }
 },
 "nbformat": 4,
 "nbformat_minor": 4
}

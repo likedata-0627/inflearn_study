{
 "cells": [
  {
   "cell_type": "markdown",
   "metadata": {},
   "source": [
    "#### find() 는 문자의 위치를 알려주는데 인덱스와 다른점은 문자열이 없으면 -1을 반환 (문자열의 위치는 0부터 시작)\n",
    "#### index()는 문자의 위치를 알려주는데 문자열이 없으면 오류 발생 (문자열의 위치는 0부터 시작)\n",
    "#### len()는 문자의 길이를 구해주는 것(문자열의 개수)"
   ]
  },
  {
   "cell_type": "code",
   "execution_count": 6,
   "metadata": {},
   "outputs": [],
   "source": [
    " def between_markers(text:str, begin:str, end:str):\n",
    "    if begin in text:\n",
    "        begin_index = text.find(begin) + len(begin) # 시작마커 위치를 찾고 마커의 길이만큼 더해준다. \n",
    "    else:\n",
    "        begin_index = 0 #문자열의 처음부터 시작한다는 의미\n",
    "    \n",
    "    if end in text:\n",
    "        end_index = text.find(end) \n",
    "    else:\n",
    "        end_index = len(text) # 마지막에 있는 인덱스를 돌려준다.\n",
    "        \n",
    "    return text[begin_index:end_index] # 두개의 문자열로 문자를 슬라이싱"
   ]
  },
  {
   "cell_type": "code",
   "execution_count": 8,
   "metadata": {},
   "outputs": [
    {
     "name": "stdout",
     "output_type": "stream",
     "text": [
      "Example: \n",
      "apple\n"
     ]
    }
   ],
   "source": [
    "if __name__ =='__main__':\n",
    "    print('Example: ')\n",
    "    print(between_markers('What is >apple<','>','<'))\n",
    "    \n",
    "    assert between_markers('What is >apple<','>','<') == 'apple','one sym'\n",
    "    assert between_markers('<head><title>My new site</title></head>','<title>','</title>') == 'My new site','HTML'\n",
    "    assert between_markers('No[/b] hi','[b]','[/b]') == 'No','No opened'\n",
    "    assert between_markers('No [b]hi','[b]','[/b]') == 'hi','No close'\n",
    "    assert between_markers('No hi','[b]','[/b]') == 'No hi','No markers at all'\n",
    "    assert between_markers('No <hi>','>','<') == '','wrong direction'\n",
    "    "
   ]
  },
  {
   "cell_type": "code",
   "execution_count": 9,
   "metadata": {},
   "outputs": [
    {
     "data": {
      "text/plain": [
       "' send a human to '"
      ]
     },
     "execution_count": 9,
     "metadata": {},
     "output_type": "execute_result"
    }
   ],
   "source": [
    "between_markers(\"Never send a human to do a machine's job.\",'Never','do')"
   ]
  },
  {
   "cell_type": "markdown",
   "metadata": {},
   "source": [
    "### 시작 마커가 뒤에 있고 끝마커가 앞에 있으니까 결국에는 공백으로 반환"
   ]
  },
  {
   "cell_type": "code",
   "execution_count": 10,
   "metadata": {},
   "outputs": [
    {
     "data": {
      "text/plain": [
       "''"
      ]
     },
     "execution_count": 10,
     "metadata": {},
     "output_type": "execute_result"
    }
   ],
   "source": [
    "between_markers(\"No <hi>one\",'>','<')"
   ]
  },
  {
   "cell_type": "code",
   "execution_count": 11,
   "metadata": {},
   "outputs": [],
   "source": [
    "text= \"Never send a human to do a machine's job.\""
   ]
  },
  {
   "cell_type": "code",
   "execution_count": 13,
   "metadata": {},
   "outputs": [
    {
     "data": {
      "text/plain": [
       "0"
      ]
     },
     "execution_count": 13,
     "metadata": {},
     "output_type": "execute_result"
    }
   ],
   "source": [
    "text.find('Never')"
   ]
  },
  {
   "cell_type": "code",
   "execution_count": 14,
   "metadata": {},
   "outputs": [
    {
     "data": {
      "text/plain": [
       "22"
      ]
     },
     "execution_count": 14,
     "metadata": {},
     "output_type": "execute_result"
    }
   ],
   "source": [
    "text.find('do')"
   ]
  },
  {
   "cell_type": "code",
   "execution_count": null,
   "metadata": {},
   "outputs": [],
   "source": []
  }
 ],
 "metadata": {
  "kernelspec": {
   "display_name": "Python 3",
   "language": "python",
   "name": "python3"
  },
  "language_info": {
   "codemirror_mode": {
    "name": "ipython",
    "version": 3
   },
   "file_extension": ".py",
   "mimetype": "text/x-python",
   "name": "python",
   "nbconvert_exporter": "python",
   "pygments_lexer": "ipython3",
   "version": "3.6.10"
  }
 },
 "nbformat": 4,
 "nbformat_minor": 4
}

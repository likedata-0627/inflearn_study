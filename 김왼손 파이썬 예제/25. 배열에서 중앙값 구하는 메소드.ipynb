{
 "cells": [
  {
   "cell_type": "markdown",
   "metadata": {},
   "source": [
    "- 순서대로 정렬되어 있는 숫자배열에서 위쪽 절반, 아래쪽 절반을 구분하는 숫자를 중앙값이라고 함\n",
    "- 숫자의 개수가 홀수면 배열의 중간값이 중앙값이 됨\n",
    "- 숫자의 개수가 짝수면 유일한 중앙값이 없기 때문에 중간에 있는 두수의 평균이 중앙값이 됨\n",
    "- 입력은 정수 리스트\n",
    "- 출력은 실수형 혹은 정수형"
   ]
  },
  {
   "cell_type": "code",
   "execution_count": 2,
   "metadata": {},
   "outputs": [],
   "source": [
    "from typing import List, Any"
   ]
  },
  {
   "cell_type": "code",
   "execution_count": 13,
   "metadata": {},
   "outputs": [],
   "source": [
    " def checkio(data:List[int]):\n",
    "    data.sort() # 배열 정렬\n",
    "    half = len(data) // 2 # 중앙값을 구할때는 몫을 구하는 // => 몴이 0이면 짝수, 1이면 홀수\n",
    "    \n",
    "    return (data[half] + data[-half-1])/2"
   ]
  },
  {
   "cell_type": "code",
   "execution_count": 14,
   "metadata": {
    "scrolled": true
   },
   "outputs": [
    {
     "name": "stdout",
     "output_type": "stream",
     "text": [
      "Example: \n",
      "3.0\n",
      "Start the long test\n"
     ]
    }
   ],
   "source": [
    "if __name__ =='__main__':\n",
    "    \n",
    "    print('Example: ')\n",
    "    print(checkio([1,2,3,4,5]))\n",
    "\n",
    "    assert checkio([1,2,3,4,5]) == 3, 'Sorted list'\n",
    "    assert checkio([3,1,2,5,3]) == 3, 'Not sorted list'\n",
    "    assert checkio([1,300,2,200,1]) == 2, \"It's not an average\"\n",
    "    assert checkio([3,6,20,99,10,15]) == 12.5, 'Even length'\n",
    "    print('Start the long test')\n",
    "    assert checkio(list(range(1000000))) == 499999.5, 'Long.'"
   ]
  },
  {
   "cell_type": "code",
   "execution_count": 15,
   "metadata": {},
   "outputs": [
    {
     "data": {
      "text/plain": [
       "1.0"
      ]
     },
     "execution_count": 15,
     "metadata": {},
     "output_type": "execute_result"
    }
   ],
   "source": [
    "checkio([1,1,1,1,1,1,1,1,1,1,1,1,1,1,1,1,1 ])"
   ]
  },
  {
   "cell_type": "code",
   "execution_count": 16,
   "metadata": {},
   "outputs": [
    {
     "data": {
      "text/plain": [
       "50000.0"
      ]
     },
     "execution_count": 16,
     "metadata": {},
     "output_type": "execute_result"
    }
   ],
   "source": [
    "checkio([99999,1])"
   ]
  },
  {
   "cell_type": "code",
   "execution_count": null,
   "metadata": {},
   "outputs": [],
   "source": []
  }
 ],
 "metadata": {
  "kernelspec": {
   "display_name": "Python 3",
   "language": "python",
   "name": "python3"
  },
  "language_info": {
   "codemirror_mode": {
    "name": "ipython",
    "version": 3
   },
   "file_extension": ".py",
   "mimetype": "text/x-python",
   "name": "python",
   "nbconvert_exporter": "python",
   "pygments_lexer": "ipython3",
   "version": "3.6.10"
  }
 },
 "nbformat": 4,
 "nbformat_minor": 4
}

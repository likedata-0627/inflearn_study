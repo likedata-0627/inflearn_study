{
 "cells": [
  {
   "cell_type": "markdown",
   "metadata": {},
   "source": [
    "#### count()를 사용해서개수 세기\n",
    "#### find() 는 ()안에 것을 찾기"
   ]
  },
  {
   "cell_type": "code",
   "execution_count": 1,
   "metadata": {},
   "outputs": [],
   "source": [
    " def second_index(text:str, symbol:str):\n",
    "    if text.count(symbol) <2:\n",
    "        return None\n",
    "    first = text.find(symbol)\n",
    "    return text.find(symbol, first +1)"
   ]
  },
  {
   "cell_type": "code",
   "execution_count": 3,
   "metadata": {},
   "outputs": [
    {
     "name": "stdout",
     "output_type": "stream",
     "text": [
      "Example: \n",
      "3\n"
     ]
    }
   ],
   "source": [
    "if __name__ =='__main__':\n",
    "    print('Example: ')\n",
    "    print(second_index('sims','s'))\n",
    "    \n",
    "    assert second_index('sims','s') ==3, 'first'\n",
    "    assert second_index('find the river','e') ==12, 'second'\n",
    "    assert second_index('hi',' ') is None, 'third'\n",
    "    assert second_index('hi mayor',' ') is None, 'fourth'\n",
    "    assert second_index('hi mr mayor',' ') ==5, 'fifth'"
   ]
  },
  {
   "cell_type": "code",
   "execution_count": 4,
   "metadata": {},
   "outputs": [
    {
     "data": {
      "text/plain": [
       "12"
      ]
     },
     "execution_count": 4,
     "metadata": {},
     "output_type": "execute_result"
    }
   ],
   "source": [
    "second_index('find the river','e')"
   ]
  },
  {
   "cell_type": "code",
   "execution_count": 5,
   "metadata": {},
   "outputs": [
    {
     "data": {
      "text/plain": [
       "18"
      ]
     },
     "execution_count": 5,
     "metadata": {},
     "output_type": "execute_result"
    }
   ],
   "source": [
    "second_index('hi. my name is inae','e')"
   ]
  },
  {
   "cell_type": "code",
   "execution_count": null,
   "metadata": {},
   "outputs": [],
   "source": []
  }
 ],
 "metadata": {
  "kernelspec": {
   "display_name": "Python 3",
   "language": "python",
   "name": "python3"
  },
  "language_info": {
   "codemirror_mode": {
    "name": "ipython",
    "version": 3
   },
   "file_extension": ".py",
   "mimetype": "text/x-python",
   "name": "python",
   "nbconvert_exporter": "python",
   "pygments_lexer": "ipython3",
   "version": "3.6.10"
  }
 },
 "nbformat": 4,
 "nbformat_minor": 4
}

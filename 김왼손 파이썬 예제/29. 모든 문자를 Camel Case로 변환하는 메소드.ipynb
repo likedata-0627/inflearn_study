{
 "cells": [
  {
   "cell_type": "markdown",
   "metadata": {},
   "source": [
    "- 모든 단어의 첫번째 글자가 대문자\n",
    "- 언더스코어(_) 없이 모두 붙어 있는 단어\n",
    "- 여기서 파이썬 형식은 스네이크 케이스(언더스코어로 이루어진 문자열) 이라고 함\n",
    "- 입력은 문자열인 함수 이름\n",
    "- 출력은 CamelCase로 변환된 함수 이름"
   ]
  },
  {
   "cell_type": "code",
   "execution_count": 1,
   "metadata": {},
   "outputs": [],
   "source": [
    " def to_camel_case(name):\n",
    "        \n",
    "    return name.title().replace('_','')"
   ]
  },
  {
   "cell_type": "code",
   "execution_count": 2,
   "metadata": {
    "scrolled": true
   },
   "outputs": [
    {
     "name": "stdout",
     "output_type": "stream",
     "text": [
      "Exmaple: \n",
      "Name\n"
     ]
    }
   ],
   "source": [
    "if __name__ =='__main__':\n",
    "    print('Exmaple: ')\n",
    "    print(to_camel_case('name'))\n",
    "    \n",
    "    assert to_camel_case('my_function_name') == 'MyFunctionName'\n",
    "    assert to_camel_case('i_phone') == 'IPhone'\n",
    "    assert to_camel_case('this_function_is_empty')=='ThisFunctionIsEmpty'\n",
    "    assert to_camel_case('name') =='Name'\n",
    "    "
   ]
  },
  {
   "cell_type": "code",
   "execution_count": 3,
   "metadata": {},
   "outputs": [
    {
     "data": {
      "text/plain": [
       "'ILovePengsu'"
      ]
     },
     "execution_count": 3,
     "metadata": {},
     "output_type": "execute_result"
    }
   ],
   "source": [
    "to_camel_case('i_love_pengsu')"
   ]
  },
  {
   "cell_type": "code",
   "execution_count": null,
   "metadata": {},
   "outputs": [],
   "source": []
  }
 ],
 "metadata": {
  "kernelspec": {
   "display_name": "Python 3",
   "language": "python",
   "name": "python3"
  },
  "language_info": {
   "codemirror_mode": {
    "name": "ipython",
    "version": 3
   },
   "file_extension": ".py",
   "mimetype": "text/x-python",
   "name": "python",
   "nbconvert_exporter": "python",
   "pygments_lexer": "ipython3",
   "version": "3.6.10"
  }
 },
 "nbformat": 4,
 "nbformat_minor": 4
}

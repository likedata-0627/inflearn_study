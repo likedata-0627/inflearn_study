{
 "cells": [
  {
   "cell_type": "code",
   "execution_count": 1,
   "metadata": {},
   "outputs": [],
   "source": [
    " def left_join(phrases): \n",
    "    return(','.join(phrases)).replace('right','left') #,를 구분자로 붙이고, right를 left 로 바꿈"
   ]
  },
  {
   "cell_type": "code",
   "execution_count": 5,
   "metadata": {
    "scrolled": true
   },
   "outputs": [],
   "source": [
    "if __name__ =='__main__':\n",
    "    \n",
    "    assert left_join(('left','right','left','stop')) == 'left,left,left,stop', 'All to left'\n",
    "    assert left_join(('bright aright','ok')) == 'bleft aleft,ok', 'Bright left'\n",
    "    assert left_join(('brightness wright',)) == 'bleftness wleft','one phrase'\n",
    "    assert left_join(('enough','jokes')) == 'enough,jokes', 'nothing to replace'"
   ]
  },
  {
   "cell_type": "code",
   "execution_count": 6,
   "metadata": {},
   "outputs": [
    {
     "data": {
      "text/plain": [
       "'r,i,g,h,t'"
      ]
     },
     "execution_count": 6,
     "metadata": {},
     "output_type": "execute_result"
    }
   ],
   "source": [
    "left_join(('r','i','g','h','t'))"
   ]
  }
 ],
 "metadata": {
  "kernelspec": {
   "display_name": "Python 3",
   "language": "python",
   "name": "python3"
  },
  "language_info": {
   "codemirror_mode": {
    "name": "ipython",
    "version": 3
   },
   "file_extension": ".py",
   "mimetype": "text/x-python",
   "name": "python",
   "nbconvert_exporter": "python",
   "pygments_lexer": "ipython3",
   "version": "3.6.10"
  }
 },
 "nbformat": 4,
 "nbformat_minor": 4
}

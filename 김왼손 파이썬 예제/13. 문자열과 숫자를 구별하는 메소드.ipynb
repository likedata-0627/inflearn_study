{
 "cells": [
  {
   "cell_type": "code",
   "execution_count": 1,
   "metadata": {},
   "outputs": [],
   "source": [
    " def checkio(words:str): \n",
    "    count = 0\n",
    "    \n",
    "    for word in words.split():\n",
    "        if word.isalpha(): #isalpha메소드로 영어로만 구성되어 있는지 확인\n",
    "            count += 1 #트루면 count +1\n",
    "        else:\n",
    "            count =0\n",
    "        if count >= 3: #3개 연속되는 단어가 있으면\n",
    "            return True #true\n",
    "    return False"
   ]
  },
  {
   "cell_type": "code",
   "execution_count": 2,
   "metadata": {
    "scrolled": true
   },
   "outputs": [],
   "source": [
    "if __name__ =='__main__':\n",
    "    \n",
    "    assert checkio(\"Hello World hello\") == True,'Hello'\n",
    "    assert checkio(\"He is 123 man\") == False,'123 man'\n",
    "    assert checkio(\"1 2 3 4\") == False,'Digits'\n",
    "    assert checkio(\"bla bla bla bla\") == True,'Bla Bla'\n",
    "    assert checkio(\"Hi\") == False,'Hi'"
   ]
  },
  {
   "cell_type": "code",
   "execution_count": 3,
   "metadata": {},
   "outputs": [
    {
     "data": {
      "text/plain": [
       "False"
      ]
     },
     "execution_count": 3,
     "metadata": {},
     "output_type": "execute_result"
    }
   ],
   "source": [
    "checkio('hello1234')"
   ]
  },
  {
   "cell_type": "code",
   "execution_count": 4,
   "metadata": {},
   "outputs": [
    {
     "data": {
      "text/plain": [
       "False"
      ]
     },
     "execution_count": 4,
     "metadata": {},
     "output_type": "execute_result"
    }
   ],
   "source": [
    "checkio('one two 3 four 5 six 7 eight 9 ten eleven 12')"
   ]
  },
  {
   "cell_type": "code",
   "execution_count": 5,
   "metadata": {},
   "outputs": [
    {
     "data": {
      "text/plain": [
       "True"
      ]
     },
     "execution_count": 5,
     "metadata": {},
     "output_type": "execute_result"
    }
   ],
   "source": [
    "checkio('one two 3 four five six 7 eight 9 ten eleven 12')"
   ]
  },
  {
   "cell_type": "code",
   "execution_count": null,
   "metadata": {},
   "outputs": [],
   "source": []
  }
 ],
 "metadata": {
  "kernelspec": {
   "display_name": "Python 3",
   "language": "python",
   "name": "python3"
  },
  "language_info": {
   "codemirror_mode": {
    "name": "ipython",
    "version": 3
   },
   "file_extension": ".py",
   "mimetype": "text/x-python",
   "name": "python",
   "nbconvert_exporter": "python",
   "pygments_lexer": "ipython3",
   "version": "3.6.10"
  }
 },
 "nbformat": 4,
 "nbformat_minor": 4
}

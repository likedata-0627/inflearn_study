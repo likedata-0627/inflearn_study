{
 "cells": [
  {
   "cell_type": "markdown",
   "metadata": {},
   "source": [
    "- camelcase는 모든 단어의 첫번째 글자가 대문자이며,\n",
    "- 언더스코어(_) 없이 모두 붙어 있는 단어\n",
    "- 여기서 파이썬 형식은 스네이크 케이스(언더스코어로 이루어진 문자열) 이라고 함\n",
    "- 입력은 camelcase 형식으로 되어있는 문자열인 함수 이름\n",
    "- 출력은 스네이크케이스로 변환된 함수 이름"
   ]
  },
  {
   "cell_type": "code",
   "execution_count": 6,
   "metadata": {},
   "outputs": [],
   "source": [
    " def from_camel_case(name):\n",
    "    \n",
    "    for letter in name:\n",
    "        if letter.isupper(): #대문자인지 아닌지 확인하는 isupper()\n",
    "            name = name.replace(letter,'_'+letter.lower()) # 대문자를 _와 소문자로 조합\n",
    "            \n",
    "    return name.strip('_')"
   ]
  },
  {
   "cell_type": "code",
   "execution_count": 4,
   "metadata": {
    "scrolled": true
   },
   "outputs": [
    {
     "name": "stdout",
     "output_type": "stream",
     "text": [
      "Exmaple: \n",
      "name\n"
     ]
    }
   ],
   "source": [
    "if __name__ =='__main__':\n",
    "    print('Exmaple: ')\n",
    "    print(from_camel_case('Name'))\n",
    "    \n",
    "    assert from_camel_case('MyFunctionName') == 'my_function_name'\n",
    "    assert from_camel_case('IPhone') == 'i_phone'\n",
    "    assert from_camel_case('ThisFunctionIsEmpty')=='this_function_is_empty'\n",
    "    assert from_camel_case('Name') =='name'\n",
    "    "
   ]
  },
  {
   "cell_type": "code",
   "execution_count": 5,
   "metadata": {},
   "outputs": [
    {
     "data": {
      "text/plain": [
       "'i_love_pengsu'"
      ]
     },
     "execution_count": 5,
     "metadata": {},
     "output_type": "execute_result"
    }
   ],
   "source": [
    "from_camel_case('ILovePengsu')"
   ]
  },
  {
   "cell_type": "code",
   "execution_count": null,
   "metadata": {},
   "outputs": [],
   "source": []
  }
 ],
 "metadata": {
  "kernelspec": {
   "display_name": "Python 3",
   "language": "python",
   "name": "python3"
  },
  "language_info": {
   "codemirror_mode": {
    "name": "ipython",
    "version": 3
   },
   "file_extension": ".py",
   "mimetype": "text/x-python",
   "name": "python",
   "nbconvert_exporter": "python",
   "pygments_lexer": "ipython3",
   "version": "3.6.10"
  }
 },
 "nbformat": 4,
 "nbformat_minor": 4
}

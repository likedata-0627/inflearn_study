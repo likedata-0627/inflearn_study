{
 "cells": [
  {
   "cell_type": "code",
   "execution_count": 5,
   "metadata": {},
   "outputs": [
    {
     "name": "stdout",
     "output_type": "stream",
     "text": [
      "Example:\n",
      "Greetings, friends.\n",
      "Coding complete? \"click\" to earn cool rewards!\n"
     ]
    }
   ],
   "source": [
    "def correct_sentence(text:str):\n",
    "    text = text[0].upper() +text[1:]\n",
    "    \n",
    "    if not text.endswith('.'):\n",
    "        text += '.'\n",
    "        \n",
    "    return text\n",
    "\n",
    "if __name__ == '__main__':\n",
    "    print('Example:')\n",
    "    print(correct_sentence('greetings, friends'))\n",
    "    \n",
    "    assert correct_sentence('greetings, friends') =='Greetings, friends.'\n",
    "    assert correct_sentence('Greetings, friends') =='Greetings, friends.'\n",
    "    assert correct_sentence('Greetings, friends.') =='Greetings, friends.'\n",
    "    assert correct_sentence('hi')=='Hi.'\n",
    "    assert correct_sentence('welcome to New York') == 'Welcome to New York.'\n",
    "    \n",
    "    print('Coding complete? \"click\" to earn cool rewards!')"
   ]
  },
  {
   "cell_type": "code",
   "execution_count": 6,
   "metadata": {},
   "outputs": [
    {
     "data": {
      "text/plain": [
       "'Hello everyone.'"
      ]
     },
     "execution_count": 6,
     "metadata": {},
     "output_type": "execute_result"
    }
   ],
   "source": [
    "correct_sentence('hello everyone')"
   ]
  },
  {
   "cell_type": "code",
   "execution_count": null,
   "metadata": {},
   "outputs": [],
   "source": []
  }
 ],
 "metadata": {
  "kernelspec": {
   "display_name": "Python 3",
   "language": "python",
   "name": "python3"
  },
  "language_info": {
   "codemirror_mode": {
    "name": "ipython",
    "version": 3
   },
   "file_extension": ".py",
   "mimetype": "text/x-python",
   "name": "python",
   "nbconvert_exporter": "python",
   "pygments_lexer": "ipython3",
   "version": "3.6.10"
  }
 },
 "nbformat": 4,
 "nbformat_minor": 4
}

{
 "cells": [
  {
   "cell_type": "code",
   "execution_count": null,
   "metadata": {},
   "outputs": [],
   "source": [
    "### *을 사용하면 입력개수를 몰라도 그냥 받아 올 수 있음"
   ]
  },
  {
   "cell_type": "code",
   "execution_count": 4,
   "metadata": {},
   "outputs": [],
   "source": [
    " def checkio(*args):\n",
    "    if args: # 값이 하나라도 있으면 실행\n",
    "        return max(args) -min(args)\n",
    "    else: #값이 한개도 없을 때 실행\n",
    "        return 0"
   ]
  },
  {
   "cell_type": "code",
   "execution_count": 5,
   "metadata": {
    "scrolled": true
   },
   "outputs": [],
   "source": [
    "if __name__ =='__main__':\n",
    "    # 이 메소드는 부동소수점 비교를 할때 쓰이는 것\n",
    "    def almost_equal(checked, correct, significant_digits):\n",
    "        precision = 0.1 ** significant_digits\n",
    "        return correct - precision <checked <correct + precision\n",
    "    \n",
    "    assert almost_equal(checked(1,2,3),2,3),'3-1=2'\n",
    "    assert almost_equal(checked(5,-5),10,3),'5-(-5)=10'\n",
    "    assert almost_equal(checked(10.2,-2.2,0,1.1,0.5),12.4,3),'10.2-(-2.2)=12.4'\n",
    "    assert almost_equal(checked(),0,3),'Empty'"
   ]
  },
  {
   "cell_type": "code",
   "execution_count": 6,
   "metadata": {},
   "outputs": [
    {
     "data": {
      "text/plain": [
       "199.8"
      ]
     },
     "execution_count": 6,
     "metadata": {},
     "output_type": "execute_result"
    }
   ],
   "source": [
    "checkio(-99.9,99.9)"
   ]
  },
  {
   "cell_type": "code",
   "execution_count": null,
   "metadata": {},
   "outputs": [],
   "source": []
  }
 ],
 "metadata": {
  "kernelspec": {
   "display_name": "Python 3",
   "language": "python",
   "name": "python3"
  },
  "language_info": {
   "codemirror_mode": {
    "name": "ipython",
    "version": 3
   },
   "file_extension": ".py",
   "mimetype": "text/x-python",
   "name": "python",
   "nbconvert_exporter": "python",
   "pygments_lexer": "ipython3",
   "version": "3.6.10"
  }
 },
 "nbformat": 4,
 "nbformat_minor": 4
}

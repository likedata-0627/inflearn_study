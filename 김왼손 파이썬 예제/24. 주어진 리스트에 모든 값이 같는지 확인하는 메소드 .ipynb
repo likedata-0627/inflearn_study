{
 "cells": [
  {
   "cell_type": "markdown",
   "metadata": {},
   "source": [
    "- 입력은 리스트\n",
    "- 출력은 True, False"
   ]
  },
  {
   "cell_type": "code",
   "execution_count": 2,
   "metadata": {},
   "outputs": [],
   "source": [
    "from typing import List, Any"
   ]
  },
  {
   "cell_type": "markdown",
   "metadata": {},
   "source": [
    "- 입력받은 리스트를 세트로 변환을 하면 중복된 값들이 다 제거가 됨\n",
    "- len 함수를 쎄서 개수를 세면 개수가 한개 이하이면 모든 값이 같다는 것을 의미"
   ]
  },
  {
   "cell_type": "code",
   "execution_count": 10,
   "metadata": {},
   "outputs": [],
   "source": [
    " def all_the_same(elements:List[Any]):\n",
    "    return len(set(elements)) <=1 "
   ]
  },
  {
   "cell_type": "code",
   "execution_count": 11,
   "metadata": {
    "scrolled": true
   },
   "outputs": [
    {
     "name": "stdout",
     "output_type": "stream",
     "text": [
      "Example: \n",
      "True\n"
     ]
    }
   ],
   "source": [
    "if __name__ =='__main__':\n",
    "    \n",
    "    print('Example: ')\n",
    "    print(all_the_same([1,1,1]))\n",
    "\n",
    "    assert all_the_same([1,1,1]) == True\n",
    "    assert all_the_same([1,2,1]) == False\n",
    "    assert all_the_same(['a','a','a']) == True\n",
    "    assert all_the_same([]) == True\n",
    "    assert all_the_same([1]) == True"
   ]
  },
  {
   "cell_type": "code",
   "execution_count": 12,
   "metadata": {},
   "outputs": [
    {
     "data": {
      "text/plain": [
       "False"
      ]
     },
     "execution_count": 12,
     "metadata": {},
     "output_type": "execute_result"
    }
   ],
   "source": [
    "all_the_same([1,'a',1])"
   ]
  },
  {
   "cell_type": "code",
   "execution_count": null,
   "metadata": {},
   "outputs": [],
   "source": []
  }
 ],
 "metadata": {
  "kernelspec": {
   "display_name": "Python 3",
   "language": "python",
   "name": "python3"
  },
  "language_info": {
   "codemirror_mode": {
    "name": "ipython",
    "version": 3
   },
   "file_extension": ".py",
   "mimetype": "text/x-python",
   "name": "python",
   "nbconvert_exporter": "python",
   "pygments_lexer": "ipython3",
   "version": "3.6.10"
  }
 },
 "nbformat": 4,
 "nbformat_minor": 4
}

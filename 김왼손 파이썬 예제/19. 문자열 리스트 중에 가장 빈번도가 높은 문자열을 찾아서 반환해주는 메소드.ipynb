{
 "cells": [
  {
   "cell_type": "markdown",
   "metadata": {},
   "source": [
    "### data를 리스트로 변환해주고\n",
    "###  key에 count 메소드를 사용하면 개수가 가장 많이 나타나는 문자를 반환"
   ]
  },
  {
   "cell_type": "code",
   "execution_count": 1,
   "metadata": {},
   "outputs": [],
   "source": [
    " def most_frequent(data:list):\n",
    "    return max(data, key=data.count)"
   ]
  },
  {
   "cell_type": "markdown",
   "metadata": {},
   "source": [
    "### 만약에 정렬이 튜플이나 리스트 형태가아니라면 정렬을 리스트로 변환해주는 리스트"
   ]
  },
  {
   "cell_type": "code",
   "execution_count": 3,
   "metadata": {
    "scrolled": true
   },
   "outputs": [
    {
     "name": "stdout",
     "output_type": "stream",
     "text": [
      "Example :\n",
      "a\n",
      "Done\n"
     ]
    }
   ],
   "source": [
    "if __name__ =='__main__':\n",
    "    print('Example :')\n",
    "    print(most_frequent([\n",
    "        'a','b','c',\n",
    "        'a','b',\n",
    "        'a'\n",
    "    ]))\n",
    "    assert most_frequent([\n",
    "        'a','b','c',\n",
    "        'a','b',\n",
    "        'a'\n",
    "    ]) =='a'\n",
    "    \n",
    "    assert most_frequent(['a','a','bi','bi','bi','bi']) =='bi'\n",
    "    print('Done')"
   ]
  },
  {
   "cell_type": "code",
   "execution_count": 4,
   "metadata": {},
   "outputs": [
    {
     "data": {
      "text/plain": [
       "'a'"
      ]
     },
     "execution_count": 4,
     "metadata": {},
     "output_type": "execute_result"
    }
   ],
   "source": [
    "most_frequent(['a','a'])"
   ]
  },
  {
   "cell_type": "code",
   "execution_count": 5,
   "metadata": {},
   "outputs": [
    {
     "data": {
      "text/plain": [
       "'a'"
      ]
     },
     "execution_count": 5,
     "metadata": {},
     "output_type": "execute_result"
    }
   ],
   "source": [
    "most_frequent(['a','a','z'])"
   ]
  },
  {
   "cell_type": "code",
   "execution_count": null,
   "metadata": {},
   "outputs": [],
   "source": []
  }
 ],
 "metadata": {
  "kernelspec": {
   "display_name": "Python 3",
   "language": "python",
   "name": "python3"
  },
  "language_info": {
   "codemirror_mode": {
    "name": "ipython",
    "version": 3
   },
   "file_extension": ".py",
   "mimetype": "text/x-python",
   "name": "python",
   "nbconvert_exporter": "python",
   "pygments_lexer": "ipython3",
   "version": "3.6.10"
  }
 },
 "nbformat": 4,
 "nbformat_minor": 4
}
